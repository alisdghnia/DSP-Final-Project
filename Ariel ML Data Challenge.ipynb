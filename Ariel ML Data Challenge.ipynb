{
 "cells": [
  {
   "cell_type": "code",
   "execution_count": 1,
   "metadata": {
    "collapsed": false,
    "pycharm": {
     "name": "#%%\n"
    }
   },
   "outputs": [],
   "source": [
    "import os\n",
    "\n",
    "import pandas as pd\n",
    "\n",
    "os.chdir('/Users/alisdghnia/Desktop/Public/TrainingData')"
   ]
  },
  {
   "cell_type": "code",
   "execution_count": 2,
   "metadata": {
    "collapsed": false,
    "pycharm": {
     "name": "#%%\n"
    }
   },
   "outputs": [],
   "source": [
    "import numpy as np"
   ]
  },
  {
   "cell_type": "code",
   "execution_count": 3,
   "metadata": {
    "collapsed": true,
    "pycharm": {
     "name": "#%%\n"
    }
   },
   "outputs": [],
   "source": [
    "import h5py\n",
    "SpectralData = h5py.File('SpectralData.hdf5')         ### load file\n",
    "planetlist = [p for p in SpectralData.keys()]\n",
    "## access wlgrid, spectrum, noise and wlwidth of a single planet instance\n",
    "wlgrid = SpectralData[planetlist[0]]['instrument_wlgrid'][:]\n",
    "spectrum = SpectralData[planetlist[0]]['instrument_spectrum'][:]\n",
    "noise = SpectralData[planetlist[0]]['instrument_noise'][:]\n",
    "wlwidth = SpectralData[planetlist[0]]['instrument_width'][:]"
   ]
  },
  {
   "cell_type": "code",
   "execution_count": 4,
   "metadata": {
    "collapsed": false,
    "pycharm": {
     "name": "#%%\n"
    }
   },
   "outputs": [
    {
     "data": {
      "text/plain": [
       "<HDF5 file \"SpectralData.hdf5\" (mode r)>"
      ]
     },
     "execution_count": 4,
     "metadata": {},
     "output_type": "execute_result"
    }
   ],
   "source": [
    "SpectralData"
   ]
  },
  {
   "cell_type": "code",
   "execution_count": 75,
   "metadata": {
    "collapsed": false,
    "pycharm": {
     "name": "#%%\n"
    }
   },
   "outputs": [
    {
     "data": {
      "text/html": [
       "<div>\n",
       "<style scoped>\n",
       "    .dataframe tbody tr th:only-of-type {\n",
       "        vertical-align: middle;\n",
       "    }\n",
       "\n",
       "    .dataframe tbody tr th {\n",
       "        vertical-align: top;\n",
       "    }\n",
       "\n",
       "    .dataframe thead th {\n",
       "        text-align: right;\n",
       "    }\n",
       "</style>\n",
       "<table border=\"1\" class=\"dataframe\">\n",
       "  <thead>\n",
       "    <tr style=\"text-align: right;\">\n",
       "      <th></th>\n",
       "      <th>0</th>\n",
       "      <th>1</th>\n",
       "      <th>2</th>\n",
       "      <th>3</th>\n",
       "      <th>4</th>\n",
       "      <th>5</th>\n",
       "      <th>6</th>\n",
       "      <th>7</th>\n",
       "      <th>8</th>\n",
       "      <th>9</th>\n",
       "      <th>...</th>\n",
       "      <th>42</th>\n",
       "      <th>43</th>\n",
       "      <th>44</th>\n",
       "      <th>45</th>\n",
       "      <th>46</th>\n",
       "      <th>47</th>\n",
       "      <th>48</th>\n",
       "      <th>49</th>\n",
       "      <th>50</th>\n",
       "      <th>51</th>\n",
       "    </tr>\n",
       "  </thead>\n",
       "  <tbody>\n",
       "    <tr>\n",
       "      <th>0</th>\n",
       "      <td>7.275559</td>\n",
       "      <td>6.813739</td>\n",
       "      <td>6.381233</td>\n",
       "      <td>5.976181</td>\n",
       "      <td>5.59684</td>\n",
       "      <td>5.241577</td>\n",
       "      <td>4.908865</td>\n",
       "      <td>4.597272</td>\n",
       "      <td>4.305458</td>\n",
       "      <td>4.032167</td>\n",
       "      <td>...</td>\n",
       "      <td>1.969598</td>\n",
       "      <td>1.883613</td>\n",
       "      <td>1.708493</td>\n",
       "      <td>1.549653</td>\n",
       "      <td>1.405581</td>\n",
       "      <td>1.274903</td>\n",
       "      <td>1.156375</td>\n",
       "      <td>0.95</td>\n",
       "      <td>0.7</td>\n",
       "      <td>0.55</td>\n",
       "    </tr>\n",
       "  </tbody>\n",
       "</table>\n",
       "<p>1 rows × 52 columns</p>\n",
       "</div>"
      ],
      "text/plain": [
       "         0         1         2         3        4         5         6   \\\n",
       "0  7.275559  6.813739  6.381233  5.976181  5.59684  5.241577  4.908865   \n",
       "\n",
       "         7         8         9   ...        42        43        44        45  \\\n",
       "0  4.597272  4.305458  4.032167  ...  1.969598  1.883613  1.708493  1.549653   \n",
       "\n",
       "         46        47        48    49   50    51  \n",
       "0  1.405581  1.274903  1.156375  0.95  0.7  0.55  \n",
       "\n",
       "[1 rows x 52 columns]"
      ]
     },
     "execution_count": 75,
     "metadata": {},
     "output_type": "execute_result"
    }
   ],
   "source": [
    "df = df.transpose()\n",
    "df"
   ]
  },
  {
   "cell_type": "code",
   "execution_count": 5,
   "metadata": {
    "collapsed": false,
    "pycharm": {
     "name": "#%%\n"
    }
   },
   "outputs": [],
   "source": [
    "def to_matrix(SpectralData):\n",
    "    # id is in ascending order\"\n",
    "    num = len(SpectralData.keys())\n",
    "    id_order = np.arange(num)\n",
    "    # we knew the instrument resolution beforehand\n",
    "    observed_spectrum = np.zeros((num,52,4))\n",
    "    for idx, x in enumerate(id_order):\n",
    "        current_id = f'Planet_{x}'\n",
    "        wlgrid = SpectralData[current_id]['instrument_wlgrid'][:]\n",
    "        spectrum = SpectralData[current_id]['instrument_spectrum'][:]\n",
    "        noise = SpectralData[current_id]['instrument_noise'][:]\n",
    "        wlwidth = SpectralData[current_id]['instrument_width'][:]\n",
    "        observed_spectrum[idx,:,:] = np.concatenate([wlgrid[...,np.newaxis],spectrum[...,np.newaxis],noise[...,np.newaxis],wlwidth[...,np.newaxis]],axis=-1)\n",
    "    return observed_spectrum"
   ]
  },
  {
   "cell_type": "code",
   "execution_count": 55,
   "metadata": {
    "collapsed": false,
    "pycharm": {
     "name": "#%%\n"
    }
   },
   "outputs": [],
   "source": [
    "df = pd.DataFrame(wlgrid)"
   ]
  },
  {
   "cell_type": "code",
   "execution_count": 57,
   "metadata": {
    "collapsed": false,
    "pycharm": {
     "name": "#%%\n"
    }
   },
   "outputs": [],
   "source": [
    "df1 = pd.DataFrame(wlwidth)"
   ]
  },
  {
   "cell_type": "code",
   "execution_count": 60,
   "metadata": {
    "collapsed": false,
    "pycharm": {
     "name": "#%%\n"
    }
   },
   "outputs": [],
   "source": [
    "df2 = pd.DataFrame(noise)"
   ]
  },
  {
   "cell_type": "code",
   "execution_count": 61,
   "metadata": {
    "collapsed": false,
    "pycharm": {
     "name": "#%%\n"
    }
   },
   "outputs": [],
   "source": [
    "df3 = pd.DataFrame(spectrum)"
   ]
  },
  {
   "cell_type": "code",
   "execution_count": 63,
   "metadata": {
    "collapsed": false,
    "pycharm": {
     "name": "#%%\n"
    }
   },
   "outputs": [
    {
     "ename": "ValueError",
     "evalue": "The truth value of a DataFrame is ambiguous. Use a.empty, a.bool(), a.item(), a.any() or a.all().",
     "output_type": "error",
     "traceback": [
      "\u001b[0;31m---------------------------------------------------------------------------\u001b[0m",
      "\u001b[0;31mValueError\u001b[0m                                Traceback (most recent call last)",
      "Input \u001b[0;32mIn [63]\u001b[0m, in \u001b[0;36m<cell line: 1>\u001b[0;34m()\u001b[0m\n\u001b[0;32m----> 1\u001b[0m df_all \u001b[38;5;241m=\u001b[39m \u001b[43mpd\u001b[49m\u001b[38;5;241;43m.\u001b[39;49m\u001b[43mmerge\u001b[49m\u001b[43m(\u001b[49m\u001b[43mdf\u001b[49m\u001b[43m,\u001b[49m\u001b[43mdf1\u001b[49m\u001b[43m,\u001b[49m\u001b[43mdf2\u001b[49m\u001b[43m,\u001b[49m\u001b[43mdf3\u001b[49m\u001b[43m)\u001b[49m\n",
      "File \u001b[0;32m~/opt/anaconda3/lib/python3.9/site-packages/pandas/core/reshape/merge.py:107\u001b[0m, in \u001b[0;36mmerge\u001b[0;34m(left, right, how, on, left_on, right_on, left_index, right_index, sort, suffixes, copy, indicator, validate)\u001b[0m\n\u001b[1;32m     90\u001b[0m \u001b[38;5;129m@Substitution\u001b[39m(\u001b[38;5;124m\"\u001b[39m\u001b[38;5;130;01m\\n\u001b[39;00m\u001b[38;5;124mleft : DataFrame or named Series\u001b[39m\u001b[38;5;124m\"\u001b[39m)\n\u001b[1;32m     91\u001b[0m \u001b[38;5;129m@Appender\u001b[39m(_merge_doc, indents\u001b[38;5;241m=\u001b[39m\u001b[38;5;241m0\u001b[39m)\n\u001b[1;32m     92\u001b[0m \u001b[38;5;28;01mdef\u001b[39;00m \u001b[38;5;21mmerge\u001b[39m(\n\u001b[0;32m   (...)\u001b[0m\n\u001b[1;32m    105\u001b[0m     validate: \u001b[38;5;28mstr\u001b[39m \u001b[38;5;241m|\u001b[39m \u001b[38;5;28;01mNone\u001b[39;00m \u001b[38;5;241m=\u001b[39m \u001b[38;5;28;01mNone\u001b[39;00m,\n\u001b[1;32m    106\u001b[0m ) \u001b[38;5;241m-\u001b[39m\u001b[38;5;241m>\u001b[39m DataFrame:\n\u001b[0;32m--> 107\u001b[0m     op \u001b[38;5;241m=\u001b[39m \u001b[43m_MergeOperation\u001b[49m\u001b[43m(\u001b[49m\n\u001b[1;32m    108\u001b[0m \u001b[43m        \u001b[49m\u001b[43mleft\u001b[49m\u001b[43m,\u001b[49m\n\u001b[1;32m    109\u001b[0m \u001b[43m        \u001b[49m\u001b[43mright\u001b[49m\u001b[43m,\u001b[49m\n\u001b[1;32m    110\u001b[0m \u001b[43m        \u001b[49m\u001b[43mhow\u001b[49m\u001b[38;5;241;43m=\u001b[39;49m\u001b[43mhow\u001b[49m\u001b[43m,\u001b[49m\n\u001b[1;32m    111\u001b[0m \u001b[43m        \u001b[49m\u001b[43mon\u001b[49m\u001b[38;5;241;43m=\u001b[39;49m\u001b[43mon\u001b[49m\u001b[43m,\u001b[49m\n\u001b[1;32m    112\u001b[0m \u001b[43m        \u001b[49m\u001b[43mleft_on\u001b[49m\u001b[38;5;241;43m=\u001b[39;49m\u001b[43mleft_on\u001b[49m\u001b[43m,\u001b[49m\n\u001b[1;32m    113\u001b[0m \u001b[43m        \u001b[49m\u001b[43mright_on\u001b[49m\u001b[38;5;241;43m=\u001b[39;49m\u001b[43mright_on\u001b[49m\u001b[43m,\u001b[49m\n\u001b[1;32m    114\u001b[0m \u001b[43m        \u001b[49m\u001b[43mleft_index\u001b[49m\u001b[38;5;241;43m=\u001b[39;49m\u001b[43mleft_index\u001b[49m\u001b[43m,\u001b[49m\n\u001b[1;32m    115\u001b[0m \u001b[43m        \u001b[49m\u001b[43mright_index\u001b[49m\u001b[38;5;241;43m=\u001b[39;49m\u001b[43mright_index\u001b[49m\u001b[43m,\u001b[49m\n\u001b[1;32m    116\u001b[0m \u001b[43m        \u001b[49m\u001b[43msort\u001b[49m\u001b[38;5;241;43m=\u001b[39;49m\u001b[43msort\u001b[49m\u001b[43m,\u001b[49m\n\u001b[1;32m    117\u001b[0m \u001b[43m        \u001b[49m\u001b[43msuffixes\u001b[49m\u001b[38;5;241;43m=\u001b[39;49m\u001b[43msuffixes\u001b[49m\u001b[43m,\u001b[49m\n\u001b[1;32m    118\u001b[0m \u001b[43m        \u001b[49m\u001b[43mcopy\u001b[49m\u001b[38;5;241;43m=\u001b[39;49m\u001b[43mcopy\u001b[49m\u001b[43m,\u001b[49m\n\u001b[1;32m    119\u001b[0m \u001b[43m        \u001b[49m\u001b[43mindicator\u001b[49m\u001b[38;5;241;43m=\u001b[39;49m\u001b[43mindicator\u001b[49m\u001b[43m,\u001b[49m\n\u001b[1;32m    120\u001b[0m \u001b[43m        \u001b[49m\u001b[43mvalidate\u001b[49m\u001b[38;5;241;43m=\u001b[39;49m\u001b[43mvalidate\u001b[49m\u001b[43m,\u001b[49m\n\u001b[1;32m    121\u001b[0m \u001b[43m    \u001b[49m\u001b[43m)\u001b[49m\n\u001b[1;32m    122\u001b[0m     \u001b[38;5;28;01mreturn\u001b[39;00m op\u001b[38;5;241m.\u001b[39mget_result()\n",
      "File \u001b[0;32m~/opt/anaconda3/lib/python3.9/site-packages/pandas/core/reshape/merge.py:682\u001b[0m, in \u001b[0;36m_MergeOperation.__init__\u001b[0;34m(self, left, right, how, on, left_on, right_on, axis, left_index, right_index, sort, suffixes, copy, indicator, validate)\u001b[0m\n\u001b[1;32m    678\u001b[0m     \u001b[38;5;66;03m# stacklevel chosen to be correct when this is reached via pd.merge\u001b[39;00m\n\u001b[1;32m    679\u001b[0m     \u001b[38;5;66;03m# (and not DataFrame.join)\u001b[39;00m\n\u001b[1;32m    680\u001b[0m     warnings\u001b[38;5;241m.\u001b[39mwarn(msg, \u001b[38;5;167;01mFutureWarning\u001b[39;00m, stacklevel\u001b[38;5;241m=\u001b[39mfind_stack_level())\n\u001b[0;32m--> 682\u001b[0m \u001b[38;5;28;43mself\u001b[39;49m\u001b[38;5;241;43m.\u001b[39;49m\u001b[43m_validate_specification\u001b[49m\u001b[43m(\u001b[49m\u001b[43m)\u001b[49m\n\u001b[1;32m    684\u001b[0m cross_col \u001b[38;5;241m=\u001b[39m \u001b[38;5;28;01mNone\u001b[39;00m\n\u001b[1;32m    685\u001b[0m \u001b[38;5;28;01mif\u001b[39;00m \u001b[38;5;28mself\u001b[39m\u001b[38;5;241m.\u001b[39mhow \u001b[38;5;241m==\u001b[39m \u001b[38;5;124m\"\u001b[39m\u001b[38;5;124mcross\u001b[39m\u001b[38;5;124m\"\u001b[39m:\n",
      "File \u001b[0;32m~/opt/anaconda3/lib/python3.9/site-packages/pandas/core/reshape/merge.py:1321\u001b[0m, in \u001b[0;36m_MergeOperation._validate_specification\u001b[0;34m(self)\u001b[0m\n\u001b[1;32m   1320\u001b[0m \u001b[38;5;28;01mdef\u001b[39;00m \u001b[38;5;21m_validate_specification\u001b[39m(\u001b[38;5;28mself\u001b[39m) \u001b[38;5;241m-\u001b[39m\u001b[38;5;241m>\u001b[39m \u001b[38;5;28;01mNone\u001b[39;00m:\n\u001b[0;32m-> 1321\u001b[0m     \u001b[38;5;28;01mif\u001b[39;00m \u001b[38;5;28mself\u001b[39m\u001b[38;5;241m.\u001b[39mhow \u001b[38;5;241m==\u001b[39m \u001b[38;5;124m\"\u001b[39m\u001b[38;5;124mcross\u001b[39m\u001b[38;5;124m\"\u001b[39m:\n\u001b[1;32m   1322\u001b[0m         \u001b[38;5;28;01mif\u001b[39;00m (\n\u001b[1;32m   1323\u001b[0m             \u001b[38;5;28mself\u001b[39m\u001b[38;5;241m.\u001b[39mleft_index\n\u001b[1;32m   1324\u001b[0m             \u001b[38;5;129;01mor\u001b[39;00m \u001b[38;5;28mself\u001b[39m\u001b[38;5;241m.\u001b[39mright_index\n\u001b[0;32m   (...)\u001b[0m\n\u001b[1;32m   1327\u001b[0m             \u001b[38;5;129;01mor\u001b[39;00m \u001b[38;5;28mself\u001b[39m\u001b[38;5;241m.\u001b[39mon \u001b[38;5;129;01mis\u001b[39;00m \u001b[38;5;129;01mnot\u001b[39;00m \u001b[38;5;28;01mNone\u001b[39;00m\n\u001b[1;32m   1328\u001b[0m         ):\n\u001b[1;32m   1329\u001b[0m             \u001b[38;5;28;01mraise\u001b[39;00m MergeError(\n\u001b[1;32m   1330\u001b[0m                 \u001b[38;5;124m\"\u001b[39m\u001b[38;5;124mCan not pass on, right_on, left_on or set right_index=True or \u001b[39m\u001b[38;5;124m\"\u001b[39m\n\u001b[1;32m   1331\u001b[0m                 \u001b[38;5;124m\"\u001b[39m\u001b[38;5;124mleft_index=True\u001b[39m\u001b[38;5;124m\"\u001b[39m\n\u001b[1;32m   1332\u001b[0m             )\n",
      "File \u001b[0;32m~/opt/anaconda3/lib/python3.9/site-packages/pandas/core/generic.py:1527\u001b[0m, in \u001b[0;36mNDFrame.__nonzero__\u001b[0;34m(self)\u001b[0m\n\u001b[1;32m   1525\u001b[0m \u001b[38;5;129m@final\u001b[39m\n\u001b[1;32m   1526\u001b[0m \u001b[38;5;28;01mdef\u001b[39;00m \u001b[38;5;21m__nonzero__\u001b[39m(\u001b[38;5;28mself\u001b[39m):\n\u001b[0;32m-> 1527\u001b[0m     \u001b[38;5;28;01mraise\u001b[39;00m \u001b[38;5;167;01mValueError\u001b[39;00m(\n\u001b[1;32m   1528\u001b[0m         \u001b[38;5;124mf\u001b[39m\u001b[38;5;124m\"\u001b[39m\u001b[38;5;124mThe truth value of a \u001b[39m\u001b[38;5;132;01m{\u001b[39;00m\u001b[38;5;28mtype\u001b[39m(\u001b[38;5;28mself\u001b[39m)\u001b[38;5;241m.\u001b[39m\u001b[38;5;18m__name__\u001b[39m\u001b[38;5;132;01m}\u001b[39;00m\u001b[38;5;124m is ambiguous. \u001b[39m\u001b[38;5;124m\"\u001b[39m\n\u001b[1;32m   1529\u001b[0m         \u001b[38;5;124m\"\u001b[39m\u001b[38;5;124mUse a.empty, a.bool(), a.item(), a.any() or a.all().\u001b[39m\u001b[38;5;124m\"\u001b[39m\n\u001b[1;32m   1530\u001b[0m     )\n",
      "\u001b[0;31mValueError\u001b[0m: The truth value of a DataFrame is ambiguous. Use a.empty, a.bool(), a.item(), a.any() or a.all()."
     ]
    }
   ],
   "source": [
    "df_all = pd.merge(df,df1,df2,df3)"
   ]
  },
  {
   "cell_type": "code",
   "execution_count": 66,
   "metadata": {
    "collapsed": false,
    "pycharm": {
     "name": "#%%\n"
    }
   },
   "outputs": [],
   "source": [
    "df12 = pd.merge(df1, df2, left_index=True, right_index=True)"
   ]
  },
  {
   "cell_type": "code",
   "execution_count": 67,
   "metadata": {
    "collapsed": false,
    "pycharm": {
     "name": "#%%\n"
    }
   },
   "outputs": [
    {
     "data": {
      "text/html": [
       "<div>\n",
       "<style scoped>\n",
       "    .dataframe tbody tr th:only-of-type {\n",
       "        vertical-align: middle;\n",
       "    }\n",
       "\n",
       "    .dataframe tbody tr th {\n",
       "        vertical-align: top;\n",
       "    }\n",
       "\n",
       "    .dataframe thead th {\n",
       "        text-align: right;\n",
       "    }\n",
       "</style>\n",
       "<table border=\"1\" class=\"dataframe\">\n",
       "  <thead>\n",
       "    <tr style=\"text-align: right;\">\n",
       "      <th></th>\n",
       "      <th>0_x</th>\n",
       "      <th>0_y</th>\n",
       "    </tr>\n",
       "  </thead>\n",
       "  <tbody>\n",
       "    <tr>\n",
       "      <th>0</th>\n",
       "      <td>0.477471</td>\n",
       "      <td>0.000051</td>\n",
       "    </tr>\n",
       "    <tr>\n",
       "      <th>1</th>\n",
       "      <td>0.447163</td>\n",
       "      <td>0.000043</td>\n",
       "    </tr>\n",
       "    <tr>\n",
       "      <th>2</th>\n",
       "      <td>0.418779</td>\n",
       "      <td>0.000035</td>\n",
       "    </tr>\n",
       "    <tr>\n",
       "      <th>3</th>\n",
       "      <td>0.392197</td>\n",
       "      <td>0.000030</td>\n",
       "    </tr>\n",
       "    <tr>\n",
       "      <th>4</th>\n",
       "      <td>0.367302</td>\n",
       "      <td>0.000029</td>\n",
       "    </tr>\n",
       "    <tr>\n",
       "      <th>5</th>\n",
       "      <td>0.343987</td>\n",
       "      <td>0.000026</td>\n",
       "    </tr>\n",
       "    <tr>\n",
       "      <th>6</th>\n",
       "      <td>0.322152</td>\n",
       "      <td>0.000023</td>\n",
       "    </tr>\n",
       "    <tr>\n",
       "      <th>7</th>\n",
       "      <td>0.301704</td>\n",
       "      <td>0.000023</td>\n",
       "    </tr>\n",
       "    <tr>\n",
       "      <th>8</th>\n",
       "      <td>0.282553</td>\n",
       "      <td>0.000020</td>\n",
       "    </tr>\n",
       "    <tr>\n",
       "      <th>9</th>\n",
       "      <td>0.264618</td>\n",
       "      <td>0.000019</td>\n",
       "    </tr>\n",
       "    <tr>\n",
       "      <th>10</th>\n",
       "      <td>0.074104</td>\n",
       "      <td>0.000036</td>\n",
       "    </tr>\n",
       "    <tr>\n",
       "      <th>11</th>\n",
       "      <td>0.072644</td>\n",
       "      <td>0.000033</td>\n",
       "    </tr>\n",
       "    <tr>\n",
       "      <th>12</th>\n",
       "      <td>0.071212</td>\n",
       "      <td>0.000033</td>\n",
       "    </tr>\n",
       "    <tr>\n",
       "      <th>13</th>\n",
       "      <td>0.069809</td>\n",
       "      <td>0.000032</td>\n",
       "    </tr>\n",
       "    <tr>\n",
       "      <th>14</th>\n",
       "      <td>0.068434</td>\n",
       "      <td>0.000032</td>\n",
       "    </tr>\n",
       "    <tr>\n",
       "      <th>15</th>\n",
       "      <td>0.067085</td>\n",
       "      <td>0.000031</td>\n",
       "    </tr>\n",
       "    <tr>\n",
       "      <th>16</th>\n",
       "      <td>0.065764</td>\n",
       "      <td>0.000030</td>\n",
       "    </tr>\n",
       "    <tr>\n",
       "      <th>17</th>\n",
       "      <td>0.064468</td>\n",
       "      <td>0.000029</td>\n",
       "    </tr>\n",
       "    <tr>\n",
       "      <th>18</th>\n",
       "      <td>0.063197</td>\n",
       "      <td>0.000028</td>\n",
       "    </tr>\n",
       "    <tr>\n",
       "      <th>19</th>\n",
       "      <td>0.061952</td>\n",
       "      <td>0.000029</td>\n",
       "    </tr>\n",
       "    <tr>\n",
       "      <th>20</th>\n",
       "      <td>0.060732</td>\n",
       "      <td>0.000029</td>\n",
       "    </tr>\n",
       "    <tr>\n",
       "      <th>21</th>\n",
       "      <td>0.059535</td>\n",
       "      <td>0.000027</td>\n",
       "    </tr>\n",
       "    <tr>\n",
       "      <th>22</th>\n",
       "      <td>0.058362</td>\n",
       "      <td>0.000027</td>\n",
       "    </tr>\n",
       "    <tr>\n",
       "      <th>23</th>\n",
       "      <td>0.057212</td>\n",
       "      <td>0.000026</td>\n",
       "    </tr>\n",
       "    <tr>\n",
       "      <th>24</th>\n",
       "      <td>0.056085</td>\n",
       "      <td>0.000026</td>\n",
       "    </tr>\n",
       "    <tr>\n",
       "      <th>25</th>\n",
       "      <td>0.054979</td>\n",
       "      <td>0.000026</td>\n",
       "    </tr>\n",
       "    <tr>\n",
       "      <th>26</th>\n",
       "      <td>0.053896</td>\n",
       "      <td>0.000026</td>\n",
       "    </tr>\n",
       "    <tr>\n",
       "      <th>27</th>\n",
       "      <td>0.052834</td>\n",
       "      <td>0.000024</td>\n",
       "    </tr>\n",
       "    <tr>\n",
       "      <th>28</th>\n",
       "      <td>0.051793</td>\n",
       "      <td>0.000024</td>\n",
       "    </tr>\n",
       "    <tr>\n",
       "      <th>29</th>\n",
       "      <td>0.050773</td>\n",
       "      <td>0.000024</td>\n",
       "    </tr>\n",
       "    <tr>\n",
       "      <th>30</th>\n",
       "      <td>0.049772</td>\n",
       "      <td>0.000025</td>\n",
       "    </tr>\n",
       "    <tr>\n",
       "      <th>31</th>\n",
       "      <td>0.048791</td>\n",
       "      <td>0.000024</td>\n",
       "    </tr>\n",
       "    <tr>\n",
       "      <th>32</th>\n",
       "      <td>0.047830</td>\n",
       "      <td>0.000023</td>\n",
       "    </tr>\n",
       "    <tr>\n",
       "      <th>33</th>\n",
       "      <td>0.046888</td>\n",
       "      <td>0.000023</td>\n",
       "    </tr>\n",
       "    <tr>\n",
       "      <th>34</th>\n",
       "      <td>0.045964</td>\n",
       "      <td>0.000023</td>\n",
       "    </tr>\n",
       "    <tr>\n",
       "      <th>35</th>\n",
       "      <td>0.045058</td>\n",
       "      <td>0.000022</td>\n",
       "    </tr>\n",
       "    <tr>\n",
       "      <th>36</th>\n",
       "      <td>0.044170</td>\n",
       "      <td>0.000021</td>\n",
       "    </tr>\n",
       "    <tr>\n",
       "      <th>37</th>\n",
       "      <td>0.043300</td>\n",
       "      <td>0.000021</td>\n",
       "    </tr>\n",
       "    <tr>\n",
       "      <th>38</th>\n",
       "      <td>0.042447</td>\n",
       "      <td>0.000021</td>\n",
       "    </tr>\n",
       "    <tr>\n",
       "      <th>39</th>\n",
       "      <td>0.041610</td>\n",
       "      <td>0.000020</td>\n",
       "    </tr>\n",
       "    <tr>\n",
       "      <th>40</th>\n",
       "      <td>0.040791</td>\n",
       "      <td>0.000020</td>\n",
       "    </tr>\n",
       "    <tr>\n",
       "      <th>41</th>\n",
       "      <td>0.039987</td>\n",
       "      <td>0.000023</td>\n",
       "    </tr>\n",
       "    <tr>\n",
       "      <th>42</th>\n",
       "      <td>0.039199</td>\n",
       "      <td>0.000023</td>\n",
       "    </tr>\n",
       "    <tr>\n",
       "      <th>43</th>\n",
       "      <td>0.184095</td>\n",
       "      <td>0.000011</td>\n",
       "    </tr>\n",
       "    <tr>\n",
       "      <th>44</th>\n",
       "      <td>0.166980</td>\n",
       "      <td>0.000008</td>\n",
       "    </tr>\n",
       "    <tr>\n",
       "      <th>45</th>\n",
       "      <td>0.151456</td>\n",
       "      <td>0.000008</td>\n",
       "    </tr>\n",
       "    <tr>\n",
       "      <th>46</th>\n",
       "      <td>0.137375</td>\n",
       "      <td>0.000008</td>\n",
       "    </tr>\n",
       "    <tr>\n",
       "      <th>47</th>\n",
       "      <td>0.124603</td>\n",
       "      <td>0.000008</td>\n",
       "    </tr>\n",
       "    <tr>\n",
       "      <th>48</th>\n",
       "      <td>0.113019</td>\n",
       "      <td>0.000009</td>\n",
       "    </tr>\n",
       "    <tr>\n",
       "      <th>49</th>\n",
       "      <td>0.307670</td>\n",
       "      <td>0.000007</td>\n",
       "    </tr>\n",
       "    <tr>\n",
       "      <th>50</th>\n",
       "      <td>0.204167</td>\n",
       "      <td>0.000007</td>\n",
       "    </tr>\n",
       "    <tr>\n",
       "      <th>51</th>\n",
       "      <td>0.100833</td>\n",
       "      <td>0.000009</td>\n",
       "    </tr>\n",
       "  </tbody>\n",
       "</table>\n",
       "</div>"
      ],
      "text/plain": [
       "         0_x       0_y\n",
       "0   0.477471  0.000051\n",
       "1   0.447163  0.000043\n",
       "2   0.418779  0.000035\n",
       "3   0.392197  0.000030\n",
       "4   0.367302  0.000029\n",
       "5   0.343987  0.000026\n",
       "6   0.322152  0.000023\n",
       "7   0.301704  0.000023\n",
       "8   0.282553  0.000020\n",
       "9   0.264618  0.000019\n",
       "10  0.074104  0.000036\n",
       "11  0.072644  0.000033\n",
       "12  0.071212  0.000033\n",
       "13  0.069809  0.000032\n",
       "14  0.068434  0.000032\n",
       "15  0.067085  0.000031\n",
       "16  0.065764  0.000030\n",
       "17  0.064468  0.000029\n",
       "18  0.063197  0.000028\n",
       "19  0.061952  0.000029\n",
       "20  0.060732  0.000029\n",
       "21  0.059535  0.000027\n",
       "22  0.058362  0.000027\n",
       "23  0.057212  0.000026\n",
       "24  0.056085  0.000026\n",
       "25  0.054979  0.000026\n",
       "26  0.053896  0.000026\n",
       "27  0.052834  0.000024\n",
       "28  0.051793  0.000024\n",
       "29  0.050773  0.000024\n",
       "30  0.049772  0.000025\n",
       "31  0.048791  0.000024\n",
       "32  0.047830  0.000023\n",
       "33  0.046888  0.000023\n",
       "34  0.045964  0.000023\n",
       "35  0.045058  0.000022\n",
       "36  0.044170  0.000021\n",
       "37  0.043300  0.000021\n",
       "38  0.042447  0.000021\n",
       "39  0.041610  0.000020\n",
       "40  0.040791  0.000020\n",
       "41  0.039987  0.000023\n",
       "42  0.039199  0.000023\n",
       "43  0.184095  0.000011\n",
       "44  0.166980  0.000008\n",
       "45  0.151456  0.000008\n",
       "46  0.137375  0.000008\n",
       "47  0.124603  0.000008\n",
       "48  0.113019  0.000009\n",
       "49  0.307670  0.000007\n",
       "50  0.204167  0.000007\n",
       "51  0.100833  0.000009"
      ]
     },
     "execution_count": 67,
     "metadata": {},
     "output_type": "execute_result"
    }
   ],
   "source": [
    "df12"
   ]
  },
  {
   "cell_type": "code",
   "execution_count": 65,
   "metadata": {
    "collapsed": false,
    "pycharm": {
     "name": "#%%\n"
    }
   },
   "outputs": [
    {
     "name": "stderr",
     "output_type": "stream",
     "text": [
      "/var/folders/_9/qq7pw_fx125c812gfv1wl_180000gn/T/ipykernel_70305/963968208.py:1: FutureWarning: In a future version of pandas all arguments of concat except for the argument 'objs' will be keyword-only.\n",
      "  display(pd.concat(df, df1, df2, df3))\n"
     ]
    },
    {
     "ename": "TypeError",
     "evalue": "first argument must be an iterable of pandas objects, you passed an object of type \"DataFrame\"",
     "output_type": "error",
     "traceback": [
      "\u001b[0;31m---------------------------------------------------------------------------\u001b[0m",
      "\u001b[0;31mTypeError\u001b[0m                                 Traceback (most recent call last)",
      "Input \u001b[0;32mIn [65]\u001b[0m, in \u001b[0;36m<cell line: 1>\u001b[0;34m()\u001b[0m\n\u001b[0;32m----> 1\u001b[0m display(\u001b[43mpd\u001b[49m\u001b[38;5;241;43m.\u001b[39;49m\u001b[43mconcat\u001b[49m\u001b[43m(\u001b[49m\u001b[43mdf\u001b[49m\u001b[43m,\u001b[49m\u001b[43m \u001b[49m\u001b[43mdf1\u001b[49m\u001b[43m,\u001b[49m\u001b[43m \u001b[49m\u001b[43mdf2\u001b[49m\u001b[43m,\u001b[49m\u001b[43m \u001b[49m\u001b[43mdf3\u001b[49m\u001b[43m)\u001b[49m)\n",
      "File \u001b[0;32m~/opt/anaconda3/lib/python3.9/site-packages/pandas/util/_decorators.py:311\u001b[0m, in \u001b[0;36mdeprecate_nonkeyword_arguments.<locals>.decorate.<locals>.wrapper\u001b[0;34m(*args, **kwargs)\u001b[0m\n\u001b[1;32m    305\u001b[0m \u001b[38;5;28;01mif\u001b[39;00m \u001b[38;5;28mlen\u001b[39m(args) \u001b[38;5;241m>\u001b[39m num_allow_args:\n\u001b[1;32m    306\u001b[0m     warnings\u001b[38;5;241m.\u001b[39mwarn(\n\u001b[1;32m    307\u001b[0m         msg\u001b[38;5;241m.\u001b[39mformat(arguments\u001b[38;5;241m=\u001b[39marguments),\n\u001b[1;32m    308\u001b[0m         \u001b[38;5;167;01mFutureWarning\u001b[39;00m,\n\u001b[1;32m    309\u001b[0m         stacklevel\u001b[38;5;241m=\u001b[39mstacklevel,\n\u001b[1;32m    310\u001b[0m     )\n\u001b[0;32m--> 311\u001b[0m \u001b[38;5;28;01mreturn\u001b[39;00m \u001b[43mfunc\u001b[49m\u001b[43m(\u001b[49m\u001b[38;5;241;43m*\u001b[39;49m\u001b[43margs\u001b[49m\u001b[43m,\u001b[49m\u001b[43m \u001b[49m\u001b[38;5;241;43m*\u001b[39;49m\u001b[38;5;241;43m*\u001b[39;49m\u001b[43mkwargs\u001b[49m\u001b[43m)\u001b[49m\n",
      "File \u001b[0;32m~/opt/anaconda3/lib/python3.9/site-packages/pandas/core/reshape/concat.py:347\u001b[0m, in \u001b[0;36mconcat\u001b[0;34m(objs, axis, join, ignore_index, keys, levels, names, verify_integrity, sort, copy)\u001b[0m\n\u001b[1;32m    143\u001b[0m \u001b[38;5;129m@deprecate_nonkeyword_arguments\u001b[39m(version\u001b[38;5;241m=\u001b[39m\u001b[38;5;28;01mNone\u001b[39;00m, allowed_args\u001b[38;5;241m=\u001b[39m[\u001b[38;5;124m\"\u001b[39m\u001b[38;5;124mobjs\u001b[39m\u001b[38;5;124m\"\u001b[39m])\n\u001b[1;32m    144\u001b[0m \u001b[38;5;28;01mdef\u001b[39;00m \u001b[38;5;21mconcat\u001b[39m(\n\u001b[1;32m    145\u001b[0m     objs: Iterable[NDFrame] \u001b[38;5;241m|\u001b[39m Mapping[Hashable, NDFrame],\n\u001b[0;32m   (...)\u001b[0m\n\u001b[1;32m    154\u001b[0m     copy: \u001b[38;5;28mbool\u001b[39m \u001b[38;5;241m=\u001b[39m \u001b[38;5;28;01mTrue\u001b[39;00m,\n\u001b[1;32m    155\u001b[0m ) \u001b[38;5;241m-\u001b[39m\u001b[38;5;241m>\u001b[39m DataFrame \u001b[38;5;241m|\u001b[39m Series:\n\u001b[1;32m    156\u001b[0m     \u001b[38;5;124;03m\"\"\"\u001b[39;00m\n\u001b[1;32m    157\u001b[0m \u001b[38;5;124;03m    Concatenate pandas objects along a particular axis with optional set logic\u001b[39;00m\n\u001b[1;32m    158\u001b[0m \u001b[38;5;124;03m    along the other axes.\u001b[39;00m\n\u001b[0;32m   (...)\u001b[0m\n\u001b[1;32m    345\u001b[0m \u001b[38;5;124;03m    ValueError: Indexes have overlapping values: ['a']\u001b[39;00m\n\u001b[1;32m    346\u001b[0m \u001b[38;5;124;03m    \"\"\"\u001b[39;00m\n\u001b[0;32m--> 347\u001b[0m     op \u001b[38;5;241m=\u001b[39m \u001b[43m_Concatenator\u001b[49m\u001b[43m(\u001b[49m\n\u001b[1;32m    348\u001b[0m \u001b[43m        \u001b[49m\u001b[43mobjs\u001b[49m\u001b[43m,\u001b[49m\n\u001b[1;32m    349\u001b[0m \u001b[43m        \u001b[49m\u001b[43maxis\u001b[49m\u001b[38;5;241;43m=\u001b[39;49m\u001b[43maxis\u001b[49m\u001b[43m,\u001b[49m\n\u001b[1;32m    350\u001b[0m \u001b[43m        \u001b[49m\u001b[43mignore_index\u001b[49m\u001b[38;5;241;43m=\u001b[39;49m\u001b[43mignore_index\u001b[49m\u001b[43m,\u001b[49m\n\u001b[1;32m    351\u001b[0m \u001b[43m        \u001b[49m\u001b[43mjoin\u001b[49m\u001b[38;5;241;43m=\u001b[39;49m\u001b[43mjoin\u001b[49m\u001b[43m,\u001b[49m\n\u001b[1;32m    352\u001b[0m \u001b[43m        \u001b[49m\u001b[43mkeys\u001b[49m\u001b[38;5;241;43m=\u001b[39;49m\u001b[43mkeys\u001b[49m\u001b[43m,\u001b[49m\n\u001b[1;32m    353\u001b[0m \u001b[43m        \u001b[49m\u001b[43mlevels\u001b[49m\u001b[38;5;241;43m=\u001b[39;49m\u001b[43mlevels\u001b[49m\u001b[43m,\u001b[49m\n\u001b[1;32m    354\u001b[0m \u001b[43m        \u001b[49m\u001b[43mnames\u001b[49m\u001b[38;5;241;43m=\u001b[39;49m\u001b[43mnames\u001b[49m\u001b[43m,\u001b[49m\n\u001b[1;32m    355\u001b[0m \u001b[43m        \u001b[49m\u001b[43mverify_integrity\u001b[49m\u001b[38;5;241;43m=\u001b[39;49m\u001b[43mverify_integrity\u001b[49m\u001b[43m,\u001b[49m\n\u001b[1;32m    356\u001b[0m \u001b[43m        \u001b[49m\u001b[43mcopy\u001b[49m\u001b[38;5;241;43m=\u001b[39;49m\u001b[43mcopy\u001b[49m\u001b[43m,\u001b[49m\n\u001b[1;32m    357\u001b[0m \u001b[43m        \u001b[49m\u001b[43msort\u001b[49m\u001b[38;5;241;43m=\u001b[39;49m\u001b[43msort\u001b[49m\u001b[43m,\u001b[49m\n\u001b[1;32m    358\u001b[0m \u001b[43m    \u001b[49m\u001b[43m)\u001b[49m\n\u001b[1;32m    360\u001b[0m     \u001b[38;5;28;01mreturn\u001b[39;00m op\u001b[38;5;241m.\u001b[39mget_result()\n",
      "File \u001b[0;32m~/opt/anaconda3/lib/python3.9/site-packages/pandas/core/reshape/concat.py:382\u001b[0m, in \u001b[0;36m_Concatenator.__init__\u001b[0;34m(self, objs, axis, join, keys, levels, names, ignore_index, verify_integrity, copy, sort)\u001b[0m\n\u001b[1;32m    368\u001b[0m \u001b[38;5;28;01mdef\u001b[39;00m \u001b[38;5;21m__init__\u001b[39m(\n\u001b[1;32m    369\u001b[0m     \u001b[38;5;28mself\u001b[39m,\n\u001b[1;32m    370\u001b[0m     objs: Iterable[NDFrame] \u001b[38;5;241m|\u001b[39m Mapping[Hashable, NDFrame],\n\u001b[0;32m   (...)\u001b[0m\n\u001b[1;32m    379\u001b[0m     sort\u001b[38;5;241m=\u001b[39m\u001b[38;5;28;01mFalse\u001b[39;00m,\n\u001b[1;32m    380\u001b[0m ):\n\u001b[1;32m    381\u001b[0m     \u001b[38;5;28;01mif\u001b[39;00m \u001b[38;5;28misinstance\u001b[39m(objs, (ABCSeries, ABCDataFrame, \u001b[38;5;28mstr\u001b[39m)):\n\u001b[0;32m--> 382\u001b[0m         \u001b[38;5;28;01mraise\u001b[39;00m \u001b[38;5;167;01mTypeError\u001b[39;00m(\n\u001b[1;32m    383\u001b[0m             \u001b[38;5;124m\"\u001b[39m\u001b[38;5;124mfirst argument must be an iterable of pandas \u001b[39m\u001b[38;5;124m\"\u001b[39m\n\u001b[1;32m    384\u001b[0m             \u001b[38;5;124mf\u001b[39m\u001b[38;5;124m'\u001b[39m\u001b[38;5;124mobjects, you passed an object of type \u001b[39m\u001b[38;5;124m\"\u001b[39m\u001b[38;5;132;01m{\u001b[39;00m\u001b[38;5;28mtype\u001b[39m(objs)\u001b[38;5;241m.\u001b[39m\u001b[38;5;18m__name__\u001b[39m\u001b[38;5;132;01m}\u001b[39;00m\u001b[38;5;124m\"\u001b[39m\u001b[38;5;124m'\u001b[39m\n\u001b[1;32m    385\u001b[0m         )\n\u001b[1;32m    387\u001b[0m     \u001b[38;5;28;01mif\u001b[39;00m join \u001b[38;5;241m==\u001b[39m \u001b[38;5;124m\"\u001b[39m\u001b[38;5;124mouter\u001b[39m\u001b[38;5;124m\"\u001b[39m:\n\u001b[1;32m    388\u001b[0m         \u001b[38;5;28mself\u001b[39m\u001b[38;5;241m.\u001b[39mintersect \u001b[38;5;241m=\u001b[39m \u001b[38;5;28;01mFalse\u001b[39;00m\n",
      "\u001b[0;31mTypeError\u001b[0m: first argument must be an iterable of pandas objects, you passed an object of type \"DataFrame\""
     ]
    }
   ],
   "source": [
    "display(pd.concat(df, df1, df2, df3))"
   ]
  },
  {
   "cell_type": "code",
   "execution_count": 51,
   "metadata": {
    "collapsed": false,
    "pycharm": {
     "name": "#%%\n"
    }
   },
   "outputs": [
    {
     "ename": "TypeError",
     "evalue": "Accessing a group is done with bytes or str,  not <class 'list'>",
     "output_type": "error",
     "traceback": [
      "\u001b[0;31m---------------------------------------------------------------------------\u001b[0m",
      "\u001b[0;31mTypeError\u001b[0m                                 Traceback (most recent call last)",
      "Input \u001b[0;32mIn [51]\u001b[0m, in \u001b[0;36m<cell line: 1>\u001b[0;34m()\u001b[0m\n\u001b[0;32m----> 1\u001b[0m \u001b[43mSpectralData\u001b[49m\u001b[43m[\u001b[49m\u001b[43mplanetlist\u001b[49m\u001b[43m[\u001b[49m\u001b[43m:\u001b[49m\u001b[38;5;241;43m100\u001b[39;49m\u001b[43m]\u001b[49m\u001b[43m]\u001b[49m\n",
      "File \u001b[0;32mh5py/_objects.pyx:54\u001b[0m, in \u001b[0;36mh5py._objects.with_phil.wrapper\u001b[0;34m()\u001b[0m\n",
      "File \u001b[0;32mh5py/_objects.pyx:55\u001b[0m, in \u001b[0;36mh5py._objects.with_phil.wrapper\u001b[0;34m()\u001b[0m\n",
      "File \u001b[0;32m~/opt/anaconda3/lib/python3.9/site-packages/h5py/_hl/group.py:307\u001b[0m, in \u001b[0;36mGroup.__getitem__\u001b[0;34m(self, name)\u001b[0m\n\u001b[1;32m    305\u001b[0m     oid \u001b[38;5;241m=\u001b[39m h5o\u001b[38;5;241m.\u001b[39mopen(\u001b[38;5;28mself\u001b[39m\u001b[38;5;241m.\u001b[39mid, \u001b[38;5;28mself\u001b[39m\u001b[38;5;241m.\u001b[39m_e(name), lapl\u001b[38;5;241m=\u001b[39m\u001b[38;5;28mself\u001b[39m\u001b[38;5;241m.\u001b[39m_lapl)\n\u001b[1;32m    306\u001b[0m \u001b[38;5;28;01melse\u001b[39;00m:\n\u001b[0;32m--> 307\u001b[0m     \u001b[38;5;28;01mraise\u001b[39;00m \u001b[38;5;167;01mTypeError\u001b[39;00m(\u001b[38;5;124m\"\u001b[39m\u001b[38;5;124mAccessing a group is done with bytes or str, \u001b[39m\u001b[38;5;124m\"\u001b[39m\n\u001b[1;32m    308\u001b[0m                     \u001b[38;5;124m\"\u001b[39m\u001b[38;5;124m not \u001b[39m\u001b[38;5;132;01m{}\u001b[39;00m\u001b[38;5;124m\"\u001b[39m\u001b[38;5;241m.\u001b[39mformat(\u001b[38;5;28mtype\u001b[39m(name)))\n\u001b[1;32m    310\u001b[0m otype \u001b[38;5;241m=\u001b[39m h5i\u001b[38;5;241m.\u001b[39mget_type(oid)\n\u001b[1;32m    311\u001b[0m \u001b[38;5;28;01mif\u001b[39;00m otype \u001b[38;5;241m==\u001b[39m h5i\u001b[38;5;241m.\u001b[39mGROUP:\n",
      "\u001b[0;31mTypeError\u001b[0m: Accessing a group is done with bytes or str,  not <class 'list'>"
     ]
    }
   ],
   "source": [
    "SpectralData[planetlist[:100]]"
   ]
  },
  {
   "cell_type": "code",
   "execution_count": 35,
   "metadata": {
    "collapsed": false,
    "pycharm": {
     "name": "#%%\n"
    }
   },
   "outputs": [
    {
     "data": {
      "text/plain": [
       "array([7.2755592 , 6.81373911, 6.3812333 , 5.97618103, 5.59683967,\n",
       "       5.24157722, 4.90886524, 4.59727234, 4.30545796, 4.03216667,\n",
       "       3.72344897, 3.65008232, 3.57816128, 3.50765736, 3.43854266,\n",
       "       3.37078978, 3.30437191, 3.23926272, 3.17543645, 3.11286781,\n",
       "       3.05153202, 2.99140478, 2.93246229, 2.8746812 , 2.81803862,\n",
       "       2.76251213, 2.70807972, 2.65471985, 2.60241139, 2.5511336 ,\n",
       "       2.50086619, 2.45158925, 2.40328325, 2.35592908, 2.30950797,\n",
       "       2.26400154, 2.21939176, 2.17566098, 2.13279186, 2.09076743,\n",
       "       2.04957106, 2.00918641, 1.9695975 , 1.88361302, 1.70849254,\n",
       "       1.5496531 , 1.40558104, 1.27490344, 1.156375  , 0.95      ,\n",
       "       0.7       , 0.55      ])"
      ]
     },
     "execution_count": 35,
     "metadata": {},
     "output_type": "execute_result"
    }
   ],
   "source": [
    "wlgrid"
   ]
  },
  {
   "cell_type": "code",
   "execution_count": 33,
   "metadata": {
    "collapsed": false,
    "pycharm": {
     "name": "#%%\n"
    }
   },
   "outputs": [
    {
     "ename": "KeyError",
     "evalue": "\"Unable to open object (object 'Planet_0' doesn't exist)\"",
     "output_type": "error",
     "traceback": [
      "\u001b[0;31m---------------------------------------------------------------------------\u001b[0m",
      "\u001b[0;31mKeyError\u001b[0m                                  Traceback (most recent call last)",
      "Input \u001b[0;32mIn [33]\u001b[0m, in \u001b[0;36m<cell line: 1>\u001b[0;34m()\u001b[0m\n\u001b[0;32m----> 1\u001b[0m a \u001b[38;5;241m=\u001b[39m \u001b[43mto_matrix\u001b[49m\u001b[43m(\u001b[49m\u001b[43mSpectralData\u001b[49m\u001b[43m[\u001b[49m\u001b[43mplanetlist\u001b[49m\u001b[43m[\u001b[49m\u001b[38;5;241;43m-\u001b[39;49m\u001b[38;5;241;43m1\u001b[39;49m\u001b[43m]\u001b[49m\u001b[43m]\u001b[49m\u001b[43m)\u001b[49m\n",
      "Input \u001b[0;32mIn [23]\u001b[0m, in \u001b[0;36mto_matrix\u001b[0;34m(SpectralData)\u001b[0m\n\u001b[1;32m      7\u001b[0m \u001b[38;5;28;01mfor\u001b[39;00m idx, x \u001b[38;5;129;01min\u001b[39;00m \u001b[38;5;28menumerate\u001b[39m(id_order):\n\u001b[1;32m      8\u001b[0m     current_id \u001b[38;5;241m=\u001b[39m \u001b[38;5;124mf\u001b[39m\u001b[38;5;124m'\u001b[39m\u001b[38;5;124mPlanet_\u001b[39m\u001b[38;5;132;01m{\u001b[39;00mx\u001b[38;5;132;01m}\u001b[39;00m\u001b[38;5;124m'\u001b[39m\n\u001b[0;32m----> 9\u001b[0m     wlgrid \u001b[38;5;241m=\u001b[39m \u001b[43mSpectralData\u001b[49m\u001b[43m[\u001b[49m\u001b[43mcurrent_id\u001b[49m\u001b[43m]\u001b[49m[\u001b[38;5;124m'\u001b[39m\u001b[38;5;124minstrument_wlgrid\u001b[39m\u001b[38;5;124m'\u001b[39m][:]\n\u001b[1;32m     10\u001b[0m     spectrum \u001b[38;5;241m=\u001b[39m SpectralData[current_id][\u001b[38;5;124m'\u001b[39m\u001b[38;5;124minstrument_spectrum\u001b[39m\u001b[38;5;124m'\u001b[39m][:]\n\u001b[1;32m     11\u001b[0m     noise \u001b[38;5;241m=\u001b[39m SpectralData[current_id][\u001b[38;5;124m'\u001b[39m\u001b[38;5;124minstrument_noise\u001b[39m\u001b[38;5;124m'\u001b[39m][:]\n",
      "File \u001b[0;32mh5py/_objects.pyx:54\u001b[0m, in \u001b[0;36mh5py._objects.with_phil.wrapper\u001b[0;34m()\u001b[0m\n",
      "File \u001b[0;32mh5py/_objects.pyx:55\u001b[0m, in \u001b[0;36mh5py._objects.with_phil.wrapper\u001b[0;34m()\u001b[0m\n",
      "File \u001b[0;32m~/opt/anaconda3/lib/python3.9/site-packages/h5py/_hl/group.py:305\u001b[0m, in \u001b[0;36mGroup.__getitem__\u001b[0;34m(self, name)\u001b[0m\n\u001b[1;32m    303\u001b[0m         \u001b[38;5;28;01mraise\u001b[39;00m \u001b[38;5;167;01mValueError\u001b[39;00m(\u001b[38;5;124m\"\u001b[39m\u001b[38;5;124mInvalid HDF5 object reference\u001b[39m\u001b[38;5;124m\"\u001b[39m)\n\u001b[1;32m    304\u001b[0m \u001b[38;5;28;01melif\u001b[39;00m \u001b[38;5;28misinstance\u001b[39m(name, (\u001b[38;5;28mbytes\u001b[39m, \u001b[38;5;28mstr\u001b[39m)):\n\u001b[0;32m--> 305\u001b[0m     oid \u001b[38;5;241m=\u001b[39m \u001b[43mh5o\u001b[49m\u001b[38;5;241;43m.\u001b[39;49m\u001b[43mopen\u001b[49m\u001b[43m(\u001b[49m\u001b[38;5;28;43mself\u001b[39;49m\u001b[38;5;241;43m.\u001b[39;49m\u001b[43mid\u001b[49m\u001b[43m,\u001b[49m\u001b[43m \u001b[49m\u001b[38;5;28;43mself\u001b[39;49m\u001b[38;5;241;43m.\u001b[39;49m\u001b[43m_e\u001b[49m\u001b[43m(\u001b[49m\u001b[43mname\u001b[49m\u001b[43m)\u001b[49m\u001b[43m,\u001b[49m\u001b[43m \u001b[49m\u001b[43mlapl\u001b[49m\u001b[38;5;241;43m=\u001b[39;49m\u001b[38;5;28;43mself\u001b[39;49m\u001b[38;5;241;43m.\u001b[39;49m\u001b[43m_lapl\u001b[49m\u001b[43m)\u001b[49m\n\u001b[1;32m    306\u001b[0m \u001b[38;5;28;01melse\u001b[39;00m:\n\u001b[1;32m    307\u001b[0m     \u001b[38;5;28;01mraise\u001b[39;00m \u001b[38;5;167;01mTypeError\u001b[39;00m(\u001b[38;5;124m\"\u001b[39m\u001b[38;5;124mAccessing a group is done with bytes or str, \u001b[39m\u001b[38;5;124m\"\u001b[39m\n\u001b[1;32m    308\u001b[0m                     \u001b[38;5;124m\"\u001b[39m\u001b[38;5;124m not \u001b[39m\u001b[38;5;132;01m{}\u001b[39;00m\u001b[38;5;124m\"\u001b[39m\u001b[38;5;241m.\u001b[39mformat(\u001b[38;5;28mtype\u001b[39m(name)))\n",
      "File \u001b[0;32mh5py/_objects.pyx:54\u001b[0m, in \u001b[0;36mh5py._objects.with_phil.wrapper\u001b[0;34m()\u001b[0m\n",
      "File \u001b[0;32mh5py/_objects.pyx:55\u001b[0m, in \u001b[0;36mh5py._objects.with_phil.wrapper\u001b[0;34m()\u001b[0m\n",
      "File \u001b[0;32mh5py/h5o.pyx:190\u001b[0m, in \u001b[0;36mh5py.h5o.open\u001b[0;34m()\u001b[0m\n",
      "\u001b[0;31mKeyError\u001b[0m: \"Unable to open object (object 'Planet_0' doesn't exist)\""
     ]
    }
   ],
   "source": [
    "a = to_matrix(SpectralData[planetlist[]])"
   ]
  },
  {
   "cell_type": "code",
   "execution_count": null,
   "metadata": {
    "collapsed": false,
    "pycharm": {
     "name": "#%%\n"
    }
   },
   "outputs": [],
   "source": [
    "SpectralData.keys()"
   ]
  },
  {
   "cell_type": "code",
   "execution_count": 38,
   "metadata": {
    "collapsed": false,
    "pycharm": {
     "name": "#%%\n"
    }
   },
   "outputs": [
    {
     "data": {
      "text/plain": [
       "91392"
      ]
     },
     "execution_count": 38,
     "metadata": {},
     "output_type": "execute_result"
    }
   ],
   "source": [
    "len(planetlist)"
   ]
  },
  {
   "cell_type": "code",
   "execution_count": 68,
   "metadata": {
    "collapsed": false,
    "pycharm": {
     "name": "#%%\n"
    }
   },
   "outputs": [
    {
     "ename": "KeyboardInterrupt",
     "evalue": "",
     "output_type": "error",
     "traceback": [
      "\u001b[0;31m---------------------------------------------------------------------------\u001b[0m",
      "\u001b[0;31mKeyboardInterrupt\u001b[0m                         Traceback (most recent call last)",
      "Input \u001b[0;32mIn [68]\u001b[0m, in \u001b[0;36m<cell line: 1>\u001b[0;34m()\u001b[0m\n\u001b[0;32m----> 1\u001b[0m a \u001b[38;5;241m=\u001b[39m \u001b[43mto_matrix\u001b[49m\u001b[43m(\u001b[49m\u001b[43mSpectralData\u001b[49m\u001b[43m)\u001b[49m\n",
      "Input \u001b[0;32mIn [23]\u001b[0m, in \u001b[0;36mto_matrix\u001b[0;34m(SpectralData)\u001b[0m\n\u001b[1;32m     10\u001b[0m     spectrum \u001b[38;5;241m=\u001b[39m SpectralData[current_id][\u001b[38;5;124m'\u001b[39m\u001b[38;5;124minstrument_spectrum\u001b[39m\u001b[38;5;124m'\u001b[39m][:]\n\u001b[1;32m     11\u001b[0m     noise \u001b[38;5;241m=\u001b[39m SpectralData[current_id][\u001b[38;5;124m'\u001b[39m\u001b[38;5;124minstrument_noise\u001b[39m\u001b[38;5;124m'\u001b[39m][:]\n\u001b[0;32m---> 12\u001b[0m     wlwidth \u001b[38;5;241m=\u001b[39m \u001b[43mSpectralData\u001b[49m\u001b[43m[\u001b[49m\u001b[43mcurrent_id\u001b[49m\u001b[43m]\u001b[49m\u001b[43m[\u001b[49m\u001b[38;5;124;43m'\u001b[39;49m\u001b[38;5;124;43minstrument_width\u001b[39;49m\u001b[38;5;124;43m'\u001b[39;49m\u001b[43m]\u001b[49m[:]\n\u001b[1;32m     13\u001b[0m     observed_spectrum[idx,:,:] \u001b[38;5;241m=\u001b[39m np\u001b[38;5;241m.\u001b[39mconcatenate([wlgrid[\u001b[38;5;241m.\u001b[39m\u001b[38;5;241m.\u001b[39m\u001b[38;5;241m.\u001b[39m,np\u001b[38;5;241m.\u001b[39mnewaxis],spectrum[\u001b[38;5;241m.\u001b[39m\u001b[38;5;241m.\u001b[39m\u001b[38;5;241m.\u001b[39m,np\u001b[38;5;241m.\u001b[39mnewaxis],noise[\u001b[38;5;241m.\u001b[39m\u001b[38;5;241m.\u001b[39m\u001b[38;5;241m.\u001b[39m,np\u001b[38;5;241m.\u001b[39mnewaxis],wlwidth[\u001b[38;5;241m.\u001b[39m\u001b[38;5;241m.\u001b[39m\u001b[38;5;241m.\u001b[39m,np\u001b[38;5;241m.\u001b[39mnewaxis]],axis\u001b[38;5;241m=\u001b[39m\u001b[38;5;241m-\u001b[39m\u001b[38;5;241m1\u001b[39m)\n\u001b[1;32m     14\u001b[0m \u001b[38;5;28;01mreturn\u001b[39;00m observed_spectrum\n",
      "File \u001b[0;32mh5py/_objects.pyx:54\u001b[0m, in \u001b[0;36mh5py._objects.with_phil.wrapper\u001b[0;34m()\u001b[0m\n",
      "File \u001b[0;32mh5py/_objects.pyx:55\u001b[0m, in \u001b[0;36mh5py._objects.with_phil.wrapper\u001b[0;34m()\u001b[0m\n",
      "File \u001b[0;32m~/opt/anaconda3/lib/python3.9/site-packages/h5py/_hl/group.py:314\u001b[0m, in \u001b[0;36mGroup.__getitem__\u001b[0;34m(self, name)\u001b[0m\n\u001b[1;32m    312\u001b[0m     \u001b[38;5;28;01mreturn\u001b[39;00m Group(oid)\n\u001b[1;32m    313\u001b[0m \u001b[38;5;28;01melif\u001b[39;00m otype \u001b[38;5;241m==\u001b[39m h5i\u001b[38;5;241m.\u001b[39mDATASET:\n\u001b[0;32m--> 314\u001b[0m     \u001b[38;5;28;01mreturn\u001b[39;00m \u001b[43mdataset\u001b[49m\u001b[38;5;241;43m.\u001b[39;49m\u001b[43mDataset\u001b[49m\u001b[43m(\u001b[49m\u001b[43moid\u001b[49m\u001b[43m,\u001b[49m\u001b[43m \u001b[49m\u001b[43mreadonly\u001b[49m\u001b[38;5;241;43m=\u001b[39;49m\u001b[43m(\u001b[49m\u001b[38;5;28;43mself\u001b[39;49m\u001b[38;5;241;43m.\u001b[39;49m\u001b[43mfile\u001b[49m\u001b[38;5;241;43m.\u001b[39;49m\u001b[43mmode\u001b[49m\u001b[43m \u001b[49m\u001b[38;5;241;43m==\u001b[39;49m\u001b[43m \u001b[49m\u001b[38;5;124;43m'\u001b[39;49m\u001b[38;5;124;43mr\u001b[39;49m\u001b[38;5;124;43m'\u001b[39;49m\u001b[43m)\u001b[49m\u001b[43m)\u001b[49m\n\u001b[1;32m    315\u001b[0m \u001b[38;5;28;01melif\u001b[39;00m otype \u001b[38;5;241m==\u001b[39m h5i\u001b[38;5;241m.\u001b[39mDATATYPE:\n\u001b[1;32m    316\u001b[0m     \u001b[38;5;28;01mreturn\u001b[39;00m datatype\u001b[38;5;241m.\u001b[39mDatatype(oid)\n",
      "File \u001b[0;32mh5py/_objects.pyx:54\u001b[0m, in \u001b[0;36mh5py._objects.with_phil.wrapper\u001b[0;34m()\u001b[0m\n",
      "File \u001b[0;32mh5py/_objects.pyx:55\u001b[0m, in \u001b[0;36mh5py._objects.with_phil.wrapper\u001b[0;34m()\u001b[0m\n",
      "File \u001b[0;32m~/opt/anaconda3/lib/python3.9/site-packages/h5py/_hl/dataset.py:591\u001b[0m, in \u001b[0;36mDataset.__init__\u001b[0;34m(self, bind, readonly)\u001b[0m\n\u001b[1;32m    588\u001b[0m     \u001b[38;5;28;01mraise\u001b[39;00m \u001b[38;5;167;01mValueError\u001b[39;00m(\u001b[38;5;124m\"\u001b[39m\u001b[38;5;132;01m%s\u001b[39;00m\u001b[38;5;124m is not a DatasetID\u001b[39m\u001b[38;5;124m\"\u001b[39m \u001b[38;5;241m%\u001b[39m bind)\n\u001b[1;32m    589\u001b[0m \u001b[38;5;28msuper\u001b[39m(Dataset, \u001b[38;5;28mself\u001b[39m)\u001b[38;5;241m.\u001b[39m\u001b[38;5;21m__init__\u001b[39m(bind)\n\u001b[0;32m--> 591\u001b[0m \u001b[38;5;28mself\u001b[39m\u001b[38;5;241m.\u001b[39m_dcpl \u001b[38;5;241m=\u001b[39m \u001b[38;5;28;43mself\u001b[39;49m\u001b[38;5;241;43m.\u001b[39;49m\u001b[43mid\u001b[49m\u001b[38;5;241;43m.\u001b[39;49m\u001b[43mget_create_plist\u001b[49m\u001b[43m(\u001b[49m\u001b[43m)\u001b[49m\n\u001b[1;32m    592\u001b[0m \u001b[38;5;28mself\u001b[39m\u001b[38;5;241m.\u001b[39m_dxpl \u001b[38;5;241m=\u001b[39m h5p\u001b[38;5;241m.\u001b[39mcreate(h5p\u001b[38;5;241m.\u001b[39mDATASET_XFER)\n\u001b[1;32m    593\u001b[0m \u001b[38;5;28mself\u001b[39m\u001b[38;5;241m.\u001b[39m_filters \u001b[38;5;241m=\u001b[39m filters\u001b[38;5;241m.\u001b[39mget_filters(\u001b[38;5;28mself\u001b[39m\u001b[38;5;241m.\u001b[39m_dcpl)\n",
      "\u001b[0;31mKeyboardInterrupt\u001b[0m: "
     ]
    }
   ],
   "source": [
    "a = to_matrix(SpectralData)"
   ]
  },
  {
   "cell_type": "code",
   "execution_count": 69,
   "metadata": {
    "collapsed": false,
    "pycharm": {
     "name": "#%%\n"
    }
   },
   "outputs": [],
   "source": [
    "os.chdir('/Users/alisdghnia/Desktop/Public/TrainingData/Ground Truth Package')\n",
    "infile     = h5py.File('Tracedata.hdf5')           ### loading in tracedata.hdf5\n",
    "planetlist = [p for p in infile.keys()]            ### getting list of planets in file\n",
    "trace      = infile[planetlist[0]]['tracedata'][:] ### accessing Nested Sampling trace data\n",
    "weights    = infile[planetlist[0]]['weights'][:]   ### accessing Nested Sampling weight data"
   ]
  },
  {
   "cell_type": "code",
   "execution_count": 70,
   "metadata": {
    "collapsed": false,
    "pycharm": {
     "name": "#%%\n"
    }
   },
   "outputs": [
    {
     "data": {
      "text/plain": [
       "array([[ 938.38555875,  -10.77049255,   -6.59324408,   -1.77074639,\n",
       "          -5.28442995,   -4.46002285],\n",
       "       [1390.06700179,   -6.24895664,   -9.50606311,   -4.17731526,\n",
       "          -8.71907502,   -9.24651155],\n",
       "       [ 999.59642344,   -9.21358202,   -6.1832266 ,   -2.3796539 ,\n",
       "          -7.61774824,  -11.41760152],\n",
       "       ...,\n",
       "       [1114.56357281,   -6.51087422,   -7.42769302,   -3.29784014,\n",
       "          -3.06601667,   -8.02697135],\n",
       "       [1106.28011458,   -9.47856959,   -6.84152799,   -3.30189064,\n",
       "          -3.3768802 ,   -6.61741926],\n",
       "       [1105.94404187,   -5.91077527,   -6.77067755,   -3.27385122,\n",
       "          -3.21492455,  -10.54515577]])"
      ]
     },
     "execution_count": 70,
     "metadata": {},
     "output_type": "execute_result"
    }
   ],
   "source": [
    "trace"
   ]
  },
  {
   "cell_type": "code",
   "execution_count": 71,
   "metadata": {
    "collapsed": false,
    "pycharm": {
     "name": "#%%\n"
    }
   },
   "outputs": [
    {
     "data": {
      "text/plain": [
       "array([1.19138918e-99, 2.64116492e-99, 2.90468403e-99, ...,\n",
       "       1.28435875e-03, 9.89210343e-04, 1.15209410e-03])"
      ]
     },
     "execution_count": 71,
     "metadata": {},
     "output_type": "execute_result"
    }
   ],
   "source": [
    "weights"
   ]
  },
  {
   "cell_type": "code",
   "execution_count": 6,
   "metadata": {
    "collapsed": false,
    "pycharm": {
     "name": "#%%\n"
    }
   },
   "outputs": [],
   "source": [
    "spectral_df = pd.DataFrame(SpectralData.keys())"
   ]
  },
  {
   "cell_type": "code",
   "execution_count": 13,
   "metadata": {
    "collapsed": false,
    "pycharm": {
     "name": "#%%\n"
    }
   },
   "outputs": [
    {
     "data": {
      "text/html": [
       "<div>\n",
       "<style scoped>\n",
       "    .dataframe tbody tr th:only-of-type {\n",
       "        vertical-align: middle;\n",
       "    }\n",
       "\n",
       "    .dataframe tbody tr th {\n",
       "        vertical-align: top;\n",
       "    }\n",
       "\n",
       "    .dataframe thead th {\n",
       "        text-align: right;\n",
       "    }\n",
       "</style>\n",
       "<table border=\"1\" class=\"dataframe\">\n",
       "  <thead>\n",
       "    <tr style=\"text-align: right;\">\n",
       "      <th></th>\n",
       "      <th>0</th>\n",
       "    </tr>\n",
       "  </thead>\n",
       "  <tbody>\n",
       "    <tr>\n",
       "      <th>91382</th>\n",
       "      <td>Planet_9990</td>\n",
       "    </tr>\n",
       "    <tr>\n",
       "      <th>91383</th>\n",
       "      <td>Planet_9991</td>\n",
       "    </tr>\n",
       "    <tr>\n",
       "      <th>91384</th>\n",
       "      <td>Planet_9992</td>\n",
       "    </tr>\n",
       "    <tr>\n",
       "      <th>91385</th>\n",
       "      <td>Planet_9993</td>\n",
       "    </tr>\n",
       "    <tr>\n",
       "      <th>91386</th>\n",
       "      <td>Planet_9994</td>\n",
       "    </tr>\n",
       "    <tr>\n",
       "      <th>91387</th>\n",
       "      <td>Planet_9995</td>\n",
       "    </tr>\n",
       "    <tr>\n",
       "      <th>91388</th>\n",
       "      <td>Planet_9996</td>\n",
       "    </tr>\n",
       "    <tr>\n",
       "      <th>91389</th>\n",
       "      <td>Planet_9997</td>\n",
       "    </tr>\n",
       "    <tr>\n",
       "      <th>91390</th>\n",
       "      <td>Planet_9998</td>\n",
       "    </tr>\n",
       "    <tr>\n",
       "      <th>91391</th>\n",
       "      <td>Planet_9999</td>\n",
       "    </tr>\n",
       "  </tbody>\n",
       "</table>\n",
       "</div>"
      ],
      "text/plain": [
       "                 0\n",
       "91382  Planet_9990\n",
       "91383  Planet_9991\n",
       "91384  Planet_9992\n",
       "91385  Planet_9993\n",
       "91386  Planet_9994\n",
       "91387  Planet_9995\n",
       "91388  Planet_9996\n",
       "91389  Planet_9997\n",
       "91390  Planet_9998\n",
       "91391  Planet_9999"
      ]
     },
     "execution_count": 13,
     "metadata": {},
     "output_type": "execute_result"
    }
   ],
   "source": [
    "spectral_df.tail(10)"
   ]
  },
  {
   "cell_type": "code",
   "execution_count": 22,
   "metadata": {},
   "outputs": [
    {
     "data": {
      "text/html": [
       "<div>\n",
       "<style scoped>\n",
       "    .dataframe tbody tr th:only-of-type {\n",
       "        vertical-align: middle;\n",
       "    }\n",
       "\n",
       "    .dataframe tbody tr th {\n",
       "        vertical-align: top;\n",
       "    }\n",
       "\n",
       "    .dataframe thead th {\n",
       "        text-align: right;\n",
       "    }\n",
       "</style>\n",
       "<table border=\"1\" class=\"dataframe\">\n",
       "  <thead>\n",
       "    <tr style=\"text-align: right;\">\n",
       "      <th></th>\n",
       "      <th>0</th>\n",
       "    </tr>\n",
       "  </thead>\n",
       "  <tbody>\n",
       "    <tr>\n",
       "      <th>0</th>\n",
       "      <td>Planet_0</td>\n",
       "    </tr>\n",
       "    <tr>\n",
       "      <th>1</th>\n",
       "      <td>Planet_1</td>\n",
       "    </tr>\n",
       "    <tr>\n",
       "      <th>2</th>\n",
       "      <td>Planet_10</td>\n",
       "    </tr>\n",
       "    <tr>\n",
       "      <th>3</th>\n",
       "      <td>Planet_100</td>\n",
       "    </tr>\n",
       "    <tr>\n",
       "      <th>4</th>\n",
       "      <td>Planet_1000</td>\n",
       "    </tr>\n",
       "    <tr>\n",
       "      <th>5</th>\n",
       "      <td>Planet_10000</td>\n",
       "    </tr>\n",
       "    <tr>\n",
       "      <th>6</th>\n",
       "      <td>Planet_10001</td>\n",
       "    </tr>\n",
       "    <tr>\n",
       "      <th>7</th>\n",
       "      <td>Planet_10002</td>\n",
       "    </tr>\n",
       "    <tr>\n",
       "      <th>8</th>\n",
       "      <td>Planet_10003</td>\n",
       "    </tr>\n",
       "    <tr>\n",
       "      <th>9</th>\n",
       "      <td>Planet_10004</td>\n",
       "    </tr>\n",
       "  </tbody>\n",
       "</table>\n",
       "</div>"
      ],
      "text/plain": [
       "              0\n",
       "0      Planet_0\n",
       "1      Planet_1\n",
       "2     Planet_10\n",
       "3    Planet_100\n",
       "4   Planet_1000\n",
       "5  Planet_10000\n",
       "6  Planet_10001\n",
       "7  Planet_10002\n",
       "8  Planet_10003\n",
       "9  Planet_10004"
      ]
     },
     "execution_count": 22,
     "metadata": {},
     "output_type": "execute_result"
    }
   ],
   "source": [
    "spectral_df.head(10)"
   ]
  },
  {
   "cell_type": "code",
   "execution_count": 1,
   "metadata": {},
   "outputs": [
    {
     "ename": "NameError",
     "evalue": "name 'spectral_df' is not defined",
     "output_type": "error",
     "traceback": [
      "\u001b[0;31m---------------------------------------------------------------------------\u001b[0m",
      "\u001b[0;31mNameError\u001b[0m                                 Traceback (most recent call last)",
      "\u001b[1;32m/Users/alisdghnia/Desktop/DSP Final Project/ML-USF-DS-Programming/Ariel ML Data Challenge.ipynb Cell 26\u001b[0m in \u001b[0;36m<cell line: 1>\u001b[0;34m()\u001b[0m\n\u001b[0;32m----> <a href='vscode-notebook-cell:/Users/alisdghnia/Desktop/DSP%20Final%20Project/ML-USF-DS-Programming/Ariel%20ML%20Data%20Challenge.ipynb#X45sZmlsZQ%3D%3D?line=0'>1</a>\u001b[0m spectral_df\n",
      "\u001b[0;31mNameError\u001b[0m: name 'spectral_df' is not defined"
     ]
    }
   ],
   "source": [
    "spectral_df"
   ]
  },
  {
   "cell_type": "code",
   "execution_count": 25,
   "metadata": {
    "collapsed": false,
    "pycharm": {
     "name": "#%%\n"
    }
   },
   "outputs": [],
   "source": [
    "df = pd.DataFrame(SpectralData.values())"
   ]
  },
  {
   "cell_type": "code",
   "execution_count": 27,
   "metadata": {},
   "outputs": [],
   "source": [
    "df_key = pd.DataFrame(SpectralData.keys())"
   ]
  },
  {
   "cell_type": "code",
   "execution_count": 28,
   "metadata": {
    "collapsed": false,
    "pycharm": {
     "name": "#%%\n"
    }
   },
   "outputs": [
    {
     "data": {
      "text/html": [
       "<div>\n",
       "<style scoped>\n",
       "    .dataframe tbody tr th:only-of-type {\n",
       "        vertical-align: middle;\n",
       "    }\n",
       "\n",
       "    .dataframe tbody tr th {\n",
       "        vertical-align: top;\n",
       "    }\n",
       "\n",
       "    .dataframe thead th {\n",
       "        text-align: right;\n",
       "    }\n",
       "</style>\n",
       "<table border=\"1\" class=\"dataframe\">\n",
       "  <thead>\n",
       "    <tr style=\"text-align: right;\">\n",
       "      <th></th>\n",
       "      <th>instrument_noise</th>\n",
       "      <th>instrument_spectrum</th>\n",
       "      <th>instrument_width</th>\n",
       "      <th>instrument_wlgrid</th>\n",
       "    </tr>\n",
       "  </thead>\n",
       "  <tbody>\n",
       "    <tr>\n",
       "      <th>0</th>\n",
       "      <td>[5.1474898629468244e-05, 4.348895393300745e-05...</td>\n",
       "      <td>[0.0016705271416423556, 0.0014561189878814244,...</td>\n",
       "      <td>[0.47747066508210395, 0.4471629537709605, 0.41...</td>\n",
       "      <td>[7.27555920454383, 6.8137391093542625, 6.38123...</td>\n",
       "    </tr>\n",
       "    <tr>\n",
       "      <th>1</th>\n",
       "      <td>[1.980730259429552e-05, 1.7630510963496627e-05...</td>\n",
       "      <td>[0.0007610982890165945, 0.0007374933547361189,...</td>\n",
       "      <td>[0.47747066508210395, 0.4471629537709605, 0.41...</td>\n",
       "      <td>[7.27555920454383, 6.8137391093542625, 6.38123...</td>\n",
       "    </tr>\n",
       "    <tr>\n",
       "      <th>2</th>\n",
       "      <td>[0.00020644293130675406, 0.0001720596748356475...</td>\n",
       "      <td>[0.011337965222089139, 0.01098047426505663, 0....</td>\n",
       "      <td>[0.47747066508210395, 0.4471629537709605, 0.41...</td>\n",
       "      <td>[7.27555920454383, 6.8137391093542625, 6.38123...</td>\n",
       "    </tr>\n",
       "    <tr>\n",
       "      <th>3</th>\n",
       "      <td>[7.430443049419776e-05, 6.156785326218716e-05,...</td>\n",
       "      <td>[0.014974527037819672, 0.014987538532715677, 0...</td>\n",
       "      <td>[0.47747066508210395, 0.4471629537709605, 0.41...</td>\n",
       "      <td>[7.27555920454383, 6.8137391093542625, 6.38123...</td>\n",
       "    </tr>\n",
       "    <tr>\n",
       "      <th>4</th>\n",
       "      <td>[6.095420382752906e-05, 5.027194878129773e-05,...</td>\n",
       "      <td>[0.0014593765703038754, 0.001392635745726865, ...</td>\n",
       "      <td>[0.47747066508210395, 0.4471629537709605, 0.41...</td>\n",
       "      <td>[7.27555920454383, 6.8137391093542625, 6.38123...</td>\n",
       "    </tr>\n",
       "    <tr>\n",
       "      <th>...</th>\n",
       "      <td>...</td>\n",
       "      <td>...</td>\n",
       "      <td>...</td>\n",
       "      <td>...</td>\n",
       "    </tr>\n",
       "    <tr>\n",
       "      <th>91387</th>\n",
       "      <td>[2.907662943842389e-05, 2.5077925960638454e-05...</td>\n",
       "      <td>[0.0010308710312077213, 0.0008304446625675506,...</td>\n",
       "      <td>[0.47747066508210395, 0.4471629537709605, 0.41...</td>\n",
       "      <td>[7.27555920454383, 6.8137391093542625, 6.38123...</td>\n",
       "    </tr>\n",
       "    <tr>\n",
       "      <th>91388</th>\n",
       "      <td>[0.0002556130131651011, 0.0002014120412465704,...</td>\n",
       "      <td>[0.005365120630626467, 0.005344351359531711, 0...</td>\n",
       "      <td>[0.47747066508210395, 0.4471629537709605, 0.41...</td>\n",
       "      <td>[7.27555920454383, 6.8137391093542625, 6.38123...</td>\n",
       "    </tr>\n",
       "    <tr>\n",
       "      <th>91389</th>\n",
       "      <td>[7.849864241904315e-05, 6.98626522894555e-05, ...</td>\n",
       "      <td>[0.0019979147708332813, 0.0023144420595474294,...</td>\n",
       "      <td>[0.47747066508210395, 0.4471629537709605, 0.41...</td>\n",
       "      <td>[7.27555920454383, 6.8137391093542625, 6.38123...</td>\n",
       "    </tr>\n",
       "    <tr>\n",
       "      <th>91390</th>\n",
       "      <td>[0.00017568627328162062, 0.0001389306424785053...</td>\n",
       "      <td>[0.014127388701323053, 0.01399455259963533, 0....</td>\n",
       "      <td>[0.47747066508210395, 0.4471629537709605, 0.41...</td>\n",
       "      <td>[7.27555920454383, 6.8137391093542625, 6.38123...</td>\n",
       "    </tr>\n",
       "    <tr>\n",
       "      <th>91391</th>\n",
       "      <td>[6.709301375530038e-05, 5.285273274809838e-05,...</td>\n",
       "      <td>[0.000928594783142543, 0.00094293259884462, 0....</td>\n",
       "      <td>[0.47747066508210395, 0.4471629537709605, 0.41...</td>\n",
       "      <td>[7.27555920454383, 6.8137391093542625, 6.38123...</td>\n",
       "    </tr>\n",
       "  </tbody>\n",
       "</table>\n",
       "<p>91392 rows × 4 columns</p>\n",
       "</div>"
      ],
      "text/plain": [
       "                                        instrument_noise  \\\n",
       "0      [5.1474898629468244e-05, 4.348895393300745e-05...   \n",
       "1      [1.980730259429552e-05, 1.7630510963496627e-05...   \n",
       "2      [0.00020644293130675406, 0.0001720596748356475...   \n",
       "3      [7.430443049419776e-05, 6.156785326218716e-05,...   \n",
       "4      [6.095420382752906e-05, 5.027194878129773e-05,...   \n",
       "...                                                  ...   \n",
       "91387  [2.907662943842389e-05, 2.5077925960638454e-05...   \n",
       "91388  [0.0002556130131651011, 0.0002014120412465704,...   \n",
       "91389  [7.849864241904315e-05, 6.98626522894555e-05, ...   \n",
       "91390  [0.00017568627328162062, 0.0001389306424785053...   \n",
       "91391  [6.709301375530038e-05, 5.285273274809838e-05,...   \n",
       "\n",
       "                                     instrument_spectrum  \\\n",
       "0      [0.0016705271416423556, 0.0014561189878814244,...   \n",
       "1      [0.0007610982890165945, 0.0007374933547361189,...   \n",
       "2      [0.011337965222089139, 0.01098047426505663, 0....   \n",
       "3      [0.014974527037819672, 0.014987538532715677, 0...   \n",
       "4      [0.0014593765703038754, 0.001392635745726865, ...   \n",
       "...                                                  ...   \n",
       "91387  [0.0010308710312077213, 0.0008304446625675506,...   \n",
       "91388  [0.005365120630626467, 0.005344351359531711, 0...   \n",
       "91389  [0.0019979147708332813, 0.0023144420595474294,...   \n",
       "91390  [0.014127388701323053, 0.01399455259963533, 0....   \n",
       "91391  [0.000928594783142543, 0.00094293259884462, 0....   \n",
       "\n",
       "                                        instrument_width  \\\n",
       "0      [0.47747066508210395, 0.4471629537709605, 0.41...   \n",
       "1      [0.47747066508210395, 0.4471629537709605, 0.41...   \n",
       "2      [0.47747066508210395, 0.4471629537709605, 0.41...   \n",
       "3      [0.47747066508210395, 0.4471629537709605, 0.41...   \n",
       "4      [0.47747066508210395, 0.4471629537709605, 0.41...   \n",
       "...                                                  ...   \n",
       "91387  [0.47747066508210395, 0.4471629537709605, 0.41...   \n",
       "91388  [0.47747066508210395, 0.4471629537709605, 0.41...   \n",
       "91389  [0.47747066508210395, 0.4471629537709605, 0.41...   \n",
       "91390  [0.47747066508210395, 0.4471629537709605, 0.41...   \n",
       "91391  [0.47747066508210395, 0.4471629537709605, 0.41...   \n",
       "\n",
       "                                       instrument_wlgrid  \n",
       "0      [7.27555920454383, 6.8137391093542625, 6.38123...  \n",
       "1      [7.27555920454383, 6.8137391093542625, 6.38123...  \n",
       "2      [7.27555920454383, 6.8137391093542625, 6.38123...  \n",
       "3      [7.27555920454383, 6.8137391093542625, 6.38123...  \n",
       "4      [7.27555920454383, 6.8137391093542625, 6.38123...  \n",
       "...                                                  ...  \n",
       "91387  [7.27555920454383, 6.8137391093542625, 6.38123...  \n",
       "91388  [7.27555920454383, 6.8137391093542625, 6.38123...  \n",
       "91389  [7.27555920454383, 6.8137391093542625, 6.38123...  \n",
       "91390  [7.27555920454383, 6.8137391093542625, 6.38123...  \n",
       "91391  [7.27555920454383, 6.8137391093542625, 6.38123...  \n",
       "\n",
       "[91392 rows x 4 columns]"
      ]
     },
     "execution_count": 28,
     "metadata": {},
     "output_type": "execute_result"
    }
   ],
   "source": [
    "df"
   ]
  },
  {
   "cell_type": "code",
   "execution_count": 29,
   "metadata": {},
   "outputs": [],
   "source": [
    "planet_df = pd.merge(df, df_key, left_index = True, right_index= True)"
   ]
  },
  {
   "cell_type": "code",
   "execution_count": 30,
   "metadata": {},
   "outputs": [
    {
     "data": {
      "text/html": [
       "<div>\n",
       "<style scoped>\n",
       "    .dataframe tbody tr th:only-of-type {\n",
       "        vertical-align: middle;\n",
       "    }\n",
       "\n",
       "    .dataframe tbody tr th {\n",
       "        vertical-align: top;\n",
       "    }\n",
       "\n",
       "    .dataframe thead th {\n",
       "        text-align: right;\n",
       "    }\n",
       "</style>\n",
       "<table border=\"1\" class=\"dataframe\">\n",
       "  <thead>\n",
       "    <tr style=\"text-align: right;\">\n",
       "      <th></th>\n",
       "      <th>instrument_noise</th>\n",
       "      <th>instrument_spectrum</th>\n",
       "      <th>instrument_width</th>\n",
       "      <th>instrument_wlgrid</th>\n",
       "      <th>0</th>\n",
       "    </tr>\n",
       "  </thead>\n",
       "  <tbody>\n",
       "    <tr>\n",
       "      <th>0</th>\n",
       "      <td>[5.1474898629468244e-05, 4.348895393300745e-05...</td>\n",
       "      <td>[0.0016705271416423556, 0.0014561189878814244,...</td>\n",
       "      <td>[0.47747066508210395, 0.4471629537709605, 0.41...</td>\n",
       "      <td>[7.27555920454383, 6.8137391093542625, 6.38123...</td>\n",
       "      <td>Planet_0</td>\n",
       "    </tr>\n",
       "    <tr>\n",
       "      <th>1</th>\n",
       "      <td>[1.980730259429552e-05, 1.7630510963496627e-05...</td>\n",
       "      <td>[0.0007610982890165945, 0.0007374933547361189,...</td>\n",
       "      <td>[0.47747066508210395, 0.4471629537709605, 0.41...</td>\n",
       "      <td>[7.27555920454383, 6.8137391093542625, 6.38123...</td>\n",
       "      <td>Planet_1</td>\n",
       "    </tr>\n",
       "    <tr>\n",
       "      <th>2</th>\n",
       "      <td>[0.00020644293130675406, 0.0001720596748356475...</td>\n",
       "      <td>[0.011337965222089139, 0.01098047426505663, 0....</td>\n",
       "      <td>[0.47747066508210395, 0.4471629537709605, 0.41...</td>\n",
       "      <td>[7.27555920454383, 6.8137391093542625, 6.38123...</td>\n",
       "      <td>Planet_10</td>\n",
       "    </tr>\n",
       "    <tr>\n",
       "      <th>3</th>\n",
       "      <td>[7.430443049419776e-05, 6.156785326218716e-05,...</td>\n",
       "      <td>[0.014974527037819672, 0.014987538532715677, 0...</td>\n",
       "      <td>[0.47747066508210395, 0.4471629537709605, 0.41...</td>\n",
       "      <td>[7.27555920454383, 6.8137391093542625, 6.38123...</td>\n",
       "      <td>Planet_100</td>\n",
       "    </tr>\n",
       "    <tr>\n",
       "      <th>4</th>\n",
       "      <td>[6.095420382752906e-05, 5.027194878129773e-05,...</td>\n",
       "      <td>[0.0014593765703038754, 0.001392635745726865, ...</td>\n",
       "      <td>[0.47747066508210395, 0.4471629537709605, 0.41...</td>\n",
       "      <td>[7.27555920454383, 6.8137391093542625, 6.38123...</td>\n",
       "      <td>Planet_1000</td>\n",
       "    </tr>\n",
       "    <tr>\n",
       "      <th>...</th>\n",
       "      <td>...</td>\n",
       "      <td>...</td>\n",
       "      <td>...</td>\n",
       "      <td>...</td>\n",
       "      <td>...</td>\n",
       "    </tr>\n",
       "    <tr>\n",
       "      <th>91387</th>\n",
       "      <td>[2.907662943842389e-05, 2.5077925960638454e-05...</td>\n",
       "      <td>[0.0010308710312077213, 0.0008304446625675506,...</td>\n",
       "      <td>[0.47747066508210395, 0.4471629537709605, 0.41...</td>\n",
       "      <td>[7.27555920454383, 6.8137391093542625, 6.38123...</td>\n",
       "      <td>Planet_9995</td>\n",
       "    </tr>\n",
       "    <tr>\n",
       "      <th>91388</th>\n",
       "      <td>[0.0002556130131651011, 0.0002014120412465704,...</td>\n",
       "      <td>[0.005365120630626467, 0.005344351359531711, 0...</td>\n",
       "      <td>[0.47747066508210395, 0.4471629537709605, 0.41...</td>\n",
       "      <td>[7.27555920454383, 6.8137391093542625, 6.38123...</td>\n",
       "      <td>Planet_9996</td>\n",
       "    </tr>\n",
       "    <tr>\n",
       "      <th>91389</th>\n",
       "      <td>[7.849864241904315e-05, 6.98626522894555e-05, ...</td>\n",
       "      <td>[0.0019979147708332813, 0.0023144420595474294,...</td>\n",
       "      <td>[0.47747066508210395, 0.4471629537709605, 0.41...</td>\n",
       "      <td>[7.27555920454383, 6.8137391093542625, 6.38123...</td>\n",
       "      <td>Planet_9997</td>\n",
       "    </tr>\n",
       "    <tr>\n",
       "      <th>91390</th>\n",
       "      <td>[0.00017568627328162062, 0.0001389306424785053...</td>\n",
       "      <td>[0.014127388701323053, 0.01399455259963533, 0....</td>\n",
       "      <td>[0.47747066508210395, 0.4471629537709605, 0.41...</td>\n",
       "      <td>[7.27555920454383, 6.8137391093542625, 6.38123...</td>\n",
       "      <td>Planet_9998</td>\n",
       "    </tr>\n",
       "    <tr>\n",
       "      <th>91391</th>\n",
       "      <td>[6.709301375530038e-05, 5.285273274809838e-05,...</td>\n",
       "      <td>[0.000928594783142543, 0.00094293259884462, 0....</td>\n",
       "      <td>[0.47747066508210395, 0.4471629537709605, 0.41...</td>\n",
       "      <td>[7.27555920454383, 6.8137391093542625, 6.38123...</td>\n",
       "      <td>Planet_9999</td>\n",
       "    </tr>\n",
       "  </tbody>\n",
       "</table>\n",
       "<p>91392 rows × 5 columns</p>\n",
       "</div>"
      ],
      "text/plain": [
       "                                        instrument_noise  \\\n",
       "0      [5.1474898629468244e-05, 4.348895393300745e-05...   \n",
       "1      [1.980730259429552e-05, 1.7630510963496627e-05...   \n",
       "2      [0.00020644293130675406, 0.0001720596748356475...   \n",
       "3      [7.430443049419776e-05, 6.156785326218716e-05,...   \n",
       "4      [6.095420382752906e-05, 5.027194878129773e-05,...   \n",
       "...                                                  ...   \n",
       "91387  [2.907662943842389e-05, 2.5077925960638454e-05...   \n",
       "91388  [0.0002556130131651011, 0.0002014120412465704,...   \n",
       "91389  [7.849864241904315e-05, 6.98626522894555e-05, ...   \n",
       "91390  [0.00017568627328162062, 0.0001389306424785053...   \n",
       "91391  [6.709301375530038e-05, 5.285273274809838e-05,...   \n",
       "\n",
       "                                     instrument_spectrum  \\\n",
       "0      [0.0016705271416423556, 0.0014561189878814244,...   \n",
       "1      [0.0007610982890165945, 0.0007374933547361189,...   \n",
       "2      [0.011337965222089139, 0.01098047426505663, 0....   \n",
       "3      [0.014974527037819672, 0.014987538532715677, 0...   \n",
       "4      [0.0014593765703038754, 0.001392635745726865, ...   \n",
       "...                                                  ...   \n",
       "91387  [0.0010308710312077213, 0.0008304446625675506,...   \n",
       "91388  [0.005365120630626467, 0.005344351359531711, 0...   \n",
       "91389  [0.0019979147708332813, 0.0023144420595474294,...   \n",
       "91390  [0.014127388701323053, 0.01399455259963533, 0....   \n",
       "91391  [0.000928594783142543, 0.00094293259884462, 0....   \n",
       "\n",
       "                                        instrument_width  \\\n",
       "0      [0.47747066508210395, 0.4471629537709605, 0.41...   \n",
       "1      [0.47747066508210395, 0.4471629537709605, 0.41...   \n",
       "2      [0.47747066508210395, 0.4471629537709605, 0.41...   \n",
       "3      [0.47747066508210395, 0.4471629537709605, 0.41...   \n",
       "4      [0.47747066508210395, 0.4471629537709605, 0.41...   \n",
       "...                                                  ...   \n",
       "91387  [0.47747066508210395, 0.4471629537709605, 0.41...   \n",
       "91388  [0.47747066508210395, 0.4471629537709605, 0.41...   \n",
       "91389  [0.47747066508210395, 0.4471629537709605, 0.41...   \n",
       "91390  [0.47747066508210395, 0.4471629537709605, 0.41...   \n",
       "91391  [0.47747066508210395, 0.4471629537709605, 0.41...   \n",
       "\n",
       "                                       instrument_wlgrid            0  \n",
       "0      [7.27555920454383, 6.8137391093542625, 6.38123...     Planet_0  \n",
       "1      [7.27555920454383, 6.8137391093542625, 6.38123...     Planet_1  \n",
       "2      [7.27555920454383, 6.8137391093542625, 6.38123...    Planet_10  \n",
       "3      [7.27555920454383, 6.8137391093542625, 6.38123...   Planet_100  \n",
       "4      [7.27555920454383, 6.8137391093542625, 6.38123...  Planet_1000  \n",
       "...                                                  ...          ...  \n",
       "91387  [7.27555920454383, 6.8137391093542625, 6.38123...  Planet_9995  \n",
       "91388  [7.27555920454383, 6.8137391093542625, 6.38123...  Planet_9996  \n",
       "91389  [7.27555920454383, 6.8137391093542625, 6.38123...  Planet_9997  \n",
       "91390  [7.27555920454383, 6.8137391093542625, 6.38123...  Planet_9998  \n",
       "91391  [7.27555920454383, 6.8137391093542625, 6.38123...  Planet_9999  \n",
       "\n",
       "[91392 rows x 5 columns]"
      ]
     },
     "execution_count": 30,
     "metadata": {},
     "output_type": "execute_result"
    }
   ],
   "source": [
    "planet_df"
   ]
  },
  {
   "cell_type": "code",
   "execution_count": 36,
   "metadata": {},
   "outputs": [],
   "source": [
    "newplanetName = []\n",
    "for x in planet_df[0]:\n",
    "    if x.startswith('Planet_'):\n",
    "        x = x.replace('Planet_', '')\n",
    "        newplanetName.append(x)"
   ]
  },
  {
   "cell_type": "code",
   "execution_count": 37,
   "metadata": {},
   "outputs": [],
   "source": [
    "planet_df[0] = newplanetName"
   ]
  },
  {
   "cell_type": "code",
   "execution_count": 51,
   "metadata": {},
   "outputs": [],
   "source": [
    "planet_df = planet_df.rename(columns = {0 : 'Planet_ID'})"
   ]
  },
  {
   "cell_type": "code",
   "execution_count": 46,
   "metadata": {},
   "outputs": [
    {
     "data": {
      "text/plain": [
       "RangeIndex(start=0, stop=91392, step=1)"
      ]
     },
     "execution_count": 46,
     "metadata": {},
     "output_type": "execute_result"
    }
   ],
   "source": [
    "planet_df.set_index()"
   ]
  },
  {
   "cell_type": "code",
   "execution_count": 81,
   "metadata": {
    "collapsed": false,
    "pycharm": {
     "name": "#%%\n"
    }
   },
   "outputs": [],
   "source": [
    "os.chdir('/Users/alisdghnia/Desktop/Public/TrainingData')"
   ]
  },
  {
   "cell_type": "code",
   "execution_count": 42,
   "metadata": {
    "collapsed": false,
    "pycharm": {
     "name": "#%%\n"
    }
   },
   "outputs": [],
   "source": [
    "df1 = pd.read_csv('AuxillaryTable.csv')"
   ]
  },
  {
   "cell_type": "code",
   "execution_count": 43,
   "metadata": {
    "collapsed": false,
    "pycharm": {
     "name": "#%%\n"
    }
   },
   "outputs": [
    {
     "data": {
      "text/html": [
       "<div>\n",
       "<style scoped>\n",
       "    .dataframe tbody tr th:only-of-type {\n",
       "        vertical-align: middle;\n",
       "    }\n",
       "\n",
       "    .dataframe tbody tr th {\n",
       "        vertical-align: top;\n",
       "    }\n",
       "\n",
       "    .dataframe thead th {\n",
       "        text-align: right;\n",
       "    }\n",
       "</style>\n",
       "<table border=\"1\" class=\"dataframe\">\n",
       "  <thead>\n",
       "    <tr style=\"text-align: right;\">\n",
       "      <th></th>\n",
       "      <th>planet_ID</th>\n",
       "      <th>star_distance</th>\n",
       "      <th>star_mass_kg</th>\n",
       "      <th>star_radius_m</th>\n",
       "      <th>star_temperature</th>\n",
       "      <th>planet_mass_kg</th>\n",
       "      <th>planet_orbital_period</th>\n",
       "      <th>planet_distance</th>\n",
       "      <th>planet_radius_m</th>\n",
       "      <th>planet_surface_gravity</th>\n",
       "    </tr>\n",
       "  </thead>\n",
       "  <tbody>\n",
       "    <tr>\n",
       "      <th>0</th>\n",
       "      <td>0</td>\n",
       "      <td>100.0510</td>\n",
       "      <td>1.531871e+30</td>\n",
       "      <td>612216000.0</td>\n",
       "      <td>5053.0</td>\n",
       "      <td>4.994682e+25</td>\n",
       "      <td>3.646200</td>\n",
       "      <td>0.042501</td>\n",
       "      <td>1.751739e+07</td>\n",
       "      <td>10.389141</td>\n",
       "    </tr>\n",
       "    <tr>\n",
       "      <th>1</th>\n",
       "      <td>1</td>\n",
       "      <td>28.2938</td>\n",
       "      <td>1.536643e+30</td>\n",
       "      <td>542646000.0</td>\n",
       "      <td>5071.0</td>\n",
       "      <td>3.040857e+25</td>\n",
       "      <td>16.201656</td>\n",
       "      <td>0.114991</td>\n",
       "      <td>1.309706e+07</td>\n",
       "      <td>11.315104</td>\n",
       "    </tr>\n",
       "    <tr>\n",
       "      <th>2</th>\n",
       "      <td>2</td>\n",
       "      <td>258.8930</td>\n",
       "      <td>1.888989e+30</td>\n",
       "      <td>688743000.0</td>\n",
       "      <td>5416.0</td>\n",
       "      <td>9.850620e+25</td>\n",
       "      <td>88.406553</td>\n",
       "      <td>0.381830</td>\n",
       "      <td>2.628654e+07</td>\n",
       "      <td>9.099284</td>\n",
       "    </tr>\n",
       "    <tr>\n",
       "      <th>3</th>\n",
       "      <td>3</td>\n",
       "      <td>1010.2800</td>\n",
       "      <td>2.087830e+30</td>\n",
       "      <td>751356000.0</td>\n",
       "      <td>5900.0</td>\n",
       "      <td>1.954940e+28</td>\n",
       "      <td>3.575320</td>\n",
       "      <td>0.046513</td>\n",
       "      <td>7.040038e+07</td>\n",
       "      <td>251.764117</td>\n",
       "    </tr>\n",
       "    <tr>\n",
       "      <th>4</th>\n",
       "      <td>4</td>\n",
       "      <td>1070.1700</td>\n",
       "      <td>2.028178e+30</td>\n",
       "      <td>953109000.0</td>\n",
       "      <td>5866.0</td>\n",
       "      <td>5.997680e+25</td>\n",
       "      <td>31.588900</td>\n",
       "      <td>0.196877</td>\n",
       "      <td>1.964499e+07</td>\n",
       "      <td>9.919505</td>\n",
       "    </tr>\n",
       "    <tr>\n",
       "      <th>...</th>\n",
       "      <td>...</td>\n",
       "      <td>...</td>\n",
       "      <td>...</td>\n",
       "      <td>...</td>\n",
       "      <td>...</td>\n",
       "      <td>...</td>\n",
       "      <td>...</td>\n",
       "      <td>...</td>\n",
       "      <td>...</td>\n",
       "      <td>...</td>\n",
       "    </tr>\n",
       "    <tr>\n",
       "      <th>91387</th>\n",
       "      <td>91387</td>\n",
       "      <td>491.6220</td>\n",
       "      <td>2.050597e+30</td>\n",
       "      <td>730485000.0</td>\n",
       "      <td>5925.1</td>\n",
       "      <td>3.779878e+27</td>\n",
       "      <td>4.847033</td>\n",
       "      <td>0.056630</td>\n",
       "      <td>1.135206e+08</td>\n",
       "      <td>18.721422</td>\n",
       "    </tr>\n",
       "    <tr>\n",
       "      <th>91388</th>\n",
       "      <td>91388</td>\n",
       "      <td>316.2280</td>\n",
       "      <td>2.444501e+30</td>\n",
       "      <td>980937000.0</td>\n",
       "      <td>6287.0</td>\n",
       "      <td>5.845108e+27</td>\n",
       "      <td>8.493018</td>\n",
       "      <td>0.087271</td>\n",
       "      <td>1.322829e+08</td>\n",
       "      <td>21.320410</td>\n",
       "    </tr>\n",
       "    <tr>\n",
       "      <th>91389</th>\n",
       "      <td>91389</td>\n",
       "      <td>1050.6400</td>\n",
       "      <td>1.869105e+30</td>\n",
       "      <td>667872000.0</td>\n",
       "      <td>5888.0</td>\n",
       "      <td>2.922920e+25</td>\n",
       "      <td>5.687945</td>\n",
       "      <td>0.061092</td>\n",
       "      <td>1.286362e+07</td>\n",
       "      <td>11.274586</td>\n",
       "    </tr>\n",
       "    <tr>\n",
       "      <th>91390</th>\n",
       "      <td>91390</td>\n",
       "      <td>90.8693</td>\n",
       "      <td>1.470204e+30</td>\n",
       "      <td>509042994.3</td>\n",
       "      <td>4820.4</td>\n",
       "      <td>4.095183e+25</td>\n",
       "      <td>6.096347</td>\n",
       "      <td>0.059057</td>\n",
       "      <td>1.550217e+07</td>\n",
       "      <td>10.876742</td>\n",
       "    </tr>\n",
       "    <tr>\n",
       "      <th>91391</th>\n",
       "      <td>91391</td>\n",
       "      <td>103.0210</td>\n",
       "      <td>1.075332e+30</td>\n",
       "      <td>366624855.9</td>\n",
       "      <td>3652.0</td>\n",
       "      <td>2.208607e+25</td>\n",
       "      <td>0.935183</td>\n",
       "      <td>0.015248</td>\n",
       "      <td>1.083126e+07</td>\n",
       "      <td>12.016305</td>\n",
       "    </tr>\n",
       "  </tbody>\n",
       "</table>\n",
       "<p>91392 rows × 10 columns</p>\n",
       "</div>"
      ],
      "text/plain": [
       "       planet_ID  star_distance  star_mass_kg  star_radius_m  \\\n",
       "0              0       100.0510  1.531871e+30    612216000.0   \n",
       "1              1        28.2938  1.536643e+30    542646000.0   \n",
       "2              2       258.8930  1.888989e+30    688743000.0   \n",
       "3              3      1010.2800  2.087830e+30    751356000.0   \n",
       "4              4      1070.1700  2.028178e+30    953109000.0   \n",
       "...          ...            ...           ...            ...   \n",
       "91387      91387       491.6220  2.050597e+30    730485000.0   \n",
       "91388      91388       316.2280  2.444501e+30    980937000.0   \n",
       "91389      91389      1050.6400  1.869105e+30    667872000.0   \n",
       "91390      91390        90.8693  1.470204e+30    509042994.3   \n",
       "91391      91391       103.0210  1.075332e+30    366624855.9   \n",
       "\n",
       "       star_temperature  planet_mass_kg  planet_orbital_period  \\\n",
       "0                5053.0    4.994682e+25               3.646200   \n",
       "1                5071.0    3.040857e+25              16.201656   \n",
       "2                5416.0    9.850620e+25              88.406553   \n",
       "3                5900.0    1.954940e+28               3.575320   \n",
       "4                5866.0    5.997680e+25              31.588900   \n",
       "...                 ...             ...                    ...   \n",
       "91387            5925.1    3.779878e+27               4.847033   \n",
       "91388            6287.0    5.845108e+27               8.493018   \n",
       "91389            5888.0    2.922920e+25               5.687945   \n",
       "91390            4820.4    4.095183e+25               6.096347   \n",
       "91391            3652.0    2.208607e+25               0.935183   \n",
       "\n",
       "       planet_distance  planet_radius_m  planet_surface_gravity  \n",
       "0             0.042501     1.751739e+07               10.389141  \n",
       "1             0.114991     1.309706e+07               11.315104  \n",
       "2             0.381830     2.628654e+07                9.099284  \n",
       "3             0.046513     7.040038e+07              251.764117  \n",
       "4             0.196877     1.964499e+07                9.919505  \n",
       "...                ...              ...                     ...  \n",
       "91387         0.056630     1.135206e+08               18.721422  \n",
       "91388         0.087271     1.322829e+08               21.320410  \n",
       "91389         0.061092     1.286362e+07               11.274586  \n",
       "91390         0.059057     1.550217e+07               10.876742  \n",
       "91391         0.015248     1.083126e+07               12.016305  \n",
       "\n",
       "[91392 rows x 10 columns]"
      ]
     },
     "execution_count": 43,
     "metadata": {},
     "output_type": "execute_result"
    }
   ],
   "source": [
    "df1"
   ]
  },
  {
   "cell_type": "code",
   "execution_count": 59,
   "metadata": {},
   "outputs": [],
   "source": [
    "planet_df['Planet_ID'] = planet_df['Planet_ID'].astype(int)"
   ]
  },
  {
   "cell_type": "code",
   "execution_count": 60,
   "metadata": {
    "collapsed": false,
    "pycharm": {
     "name": "#%%\n"
    }
   },
   "outputs": [],
   "source": [
    "df_all = pd.merge(planet_df, df1, left_on = 'Planet_ID', right_on='planet_ID')"
   ]
  },
  {
   "cell_type": "code",
   "execution_count": 61,
   "metadata": {
    "collapsed": false,
    "pycharm": {
     "name": "#%%\n"
    }
   },
   "outputs": [
    {
     "data": {
      "text/html": [
       "<div>\n",
       "<style scoped>\n",
       "    .dataframe tbody tr th:only-of-type {\n",
       "        vertical-align: middle;\n",
       "    }\n",
       "\n",
       "    .dataframe tbody tr th {\n",
       "        vertical-align: top;\n",
       "    }\n",
       "\n",
       "    .dataframe thead th {\n",
       "        text-align: right;\n",
       "    }\n",
       "</style>\n",
       "<table border=\"1\" class=\"dataframe\">\n",
       "  <thead>\n",
       "    <tr style=\"text-align: right;\">\n",
       "      <th></th>\n",
       "      <th>instrument_noise</th>\n",
       "      <th>instrument_spectrum</th>\n",
       "      <th>instrument_width</th>\n",
       "      <th>instrument_wlgrid</th>\n",
       "      <th>Planet_ID</th>\n",
       "      <th>planet_ID</th>\n",
       "      <th>star_distance</th>\n",
       "      <th>star_mass_kg</th>\n",
       "      <th>star_radius_m</th>\n",
       "      <th>star_temperature</th>\n",
       "      <th>planet_mass_kg</th>\n",
       "      <th>planet_orbital_period</th>\n",
       "      <th>planet_distance</th>\n",
       "      <th>planet_radius_m</th>\n",
       "      <th>planet_surface_gravity</th>\n",
       "    </tr>\n",
       "  </thead>\n",
       "  <tbody>\n",
       "    <tr>\n",
       "      <th>0</th>\n",
       "      <td>[5.1474898629468244e-05, 4.348895393300745e-05...</td>\n",
       "      <td>[0.0016705271416423556, 0.0014561189878814244,...</td>\n",
       "      <td>[0.47747066508210395, 0.4471629537709605, 0.41...</td>\n",
       "      <td>[7.27555920454383, 6.8137391093542625, 6.38123...</td>\n",
       "      <td>0</td>\n",
       "      <td>0</td>\n",
       "      <td>100.0510</td>\n",
       "      <td>1.531871e+30</td>\n",
       "      <td>6.122160e+08</td>\n",
       "      <td>5053.00</td>\n",
       "      <td>4.994682e+25</td>\n",
       "      <td>3.646200</td>\n",
       "      <td>0.042501</td>\n",
       "      <td>1.751739e+07</td>\n",
       "      <td>10.389141</td>\n",
       "    </tr>\n",
       "    <tr>\n",
       "      <th>1</th>\n",
       "      <td>[1.980730259429552e-05, 1.7630510963496627e-05...</td>\n",
       "      <td>[0.0007610982890165945, 0.0007374933547361189,...</td>\n",
       "      <td>[0.47747066508210395, 0.4471629537709605, 0.41...</td>\n",
       "      <td>[7.27555920454383, 6.8137391093542625, 6.38123...</td>\n",
       "      <td>1</td>\n",
       "      <td>1</td>\n",
       "      <td>28.2938</td>\n",
       "      <td>1.536643e+30</td>\n",
       "      <td>5.426460e+08</td>\n",
       "      <td>5071.00</td>\n",
       "      <td>3.040857e+25</td>\n",
       "      <td>16.201656</td>\n",
       "      <td>0.114991</td>\n",
       "      <td>1.309706e+07</td>\n",
       "      <td>11.315104</td>\n",
       "    </tr>\n",
       "    <tr>\n",
       "      <th>2</th>\n",
       "      <td>[0.00020644293130675406, 0.0001720596748356475...</td>\n",
       "      <td>[0.011337965222089139, 0.01098047426505663, 0....</td>\n",
       "      <td>[0.47747066508210395, 0.4471629537709605, 0.41...</td>\n",
       "      <td>[7.27555920454383, 6.8137391093542625, 6.38123...</td>\n",
       "      <td>10</td>\n",
       "      <td>10</td>\n",
       "      <td>152.8920</td>\n",
       "      <td>1.789529e+30</td>\n",
       "      <td>7.235280e+08</td>\n",
       "      <td>5623.00</td>\n",
       "      <td>5.143284e+26</td>\n",
       "      <td>10.180207</td>\n",
       "      <td>0.088753</td>\n",
       "      <td>6.960987e+07</td>\n",
       "      <td>6.774999</td>\n",
       "    </tr>\n",
       "    <tr>\n",
       "      <th>3</th>\n",
       "      <td>[7.430443049419776e-05, 6.156785326218716e-05,...</td>\n",
       "      <td>[0.014974527037819672, 0.014987538532715677, 0...</td>\n",
       "      <td>[0.47747066508210395, 0.4471629537709605, 0.41...</td>\n",
       "      <td>[7.27555920454383, 6.8137391093542625, 6.38123...</td>\n",
       "      <td>100</td>\n",
       "      <td>100</td>\n",
       "      <td>260.6410</td>\n",
       "      <td>2.041500e+30</td>\n",
       "      <td>1.106163e+09</td>\n",
       "      <td>5906.80</td>\n",
       "      <td>5.707595e+27</td>\n",
       "      <td>8.769050</td>\n",
       "      <td>0.083956</td>\n",
       "      <td>1.310336e+08</td>\n",
       "      <td>21.217691</td>\n",
       "    </tr>\n",
       "    <tr>\n",
       "      <th>4</th>\n",
       "      <td>[6.095420382752906e-05, 5.027194878129773e-05,...</td>\n",
       "      <td>[0.0014593765703038754, 0.001392635745726865, ...</td>\n",
       "      <td>[0.47747066508210395, 0.4471629537709605, 0.41...</td>\n",
       "      <td>[7.27555920454383, 6.8137391093542625, 6.38123...</td>\n",
       "      <td>1000</td>\n",
       "      <td>1000</td>\n",
       "      <td>249.8260</td>\n",
       "      <td>2.481784e+30</td>\n",
       "      <td>9.600660e+08</td>\n",
       "      <td>6317.00</td>\n",
       "      <td>1.008137e+26</td>\n",
       "      <td>3.626540</td>\n",
       "      <td>0.049737</td>\n",
       "      <td>2.637044e+07</td>\n",
       "      <td>9.253265</td>\n",
       "    </tr>\n",
       "    <tr>\n",
       "      <th>...</th>\n",
       "      <td>...</td>\n",
       "      <td>...</td>\n",
       "      <td>...</td>\n",
       "      <td>...</td>\n",
       "      <td>...</td>\n",
       "      <td>...</td>\n",
       "      <td>...</td>\n",
       "      <td>...</td>\n",
       "      <td>...</td>\n",
       "      <td>...</td>\n",
       "      <td>...</td>\n",
       "      <td>...</td>\n",
       "      <td>...</td>\n",
       "      <td>...</td>\n",
       "      <td>...</td>\n",
       "    </tr>\n",
       "    <tr>\n",
       "      <th>91387</th>\n",
       "      <td>[2.907662943842389e-05, 2.5077925960638454e-05...</td>\n",
       "      <td>[0.0010308710312077213, 0.0008304446625675506,...</td>\n",
       "      <td>[0.47747066508210395, 0.4471629537709605, 0.41...</td>\n",
       "      <td>[7.27555920454383, 6.8137391093542625, 6.38123...</td>\n",
       "      <td>9995</td>\n",
       "      <td>9995</td>\n",
       "      <td>732.4320</td>\n",
       "      <td>6.150788e+30</td>\n",
       "      <td>4.202028e+09</td>\n",
       "      <td>10037.00</td>\n",
       "      <td>5.474512e+26</td>\n",
       "      <td>2.555550</td>\n",
       "      <td>0.053301</td>\n",
       "      <td>7.228806e+07</td>\n",
       "      <td>6.686866</td>\n",
       "    </tr>\n",
       "    <tr>\n",
       "      <th>91388</th>\n",
       "      <td>[0.0002556130131651011, 0.0002014120412465704,...</td>\n",
       "      <td>[0.005365120630626467, 0.005344351359531711, 0...</td>\n",
       "      <td>[0.47747066508210395, 0.4471629537709605, 0.41...</td>\n",
       "      <td>[7.27555920454383, 6.8137391093542625, 6.38123...</td>\n",
       "      <td>9996</td>\n",
       "      <td>9996</td>\n",
       "      <td>1148.8000</td>\n",
       "      <td>2.603574e+30</td>\n",
       "      <td>1.405314e+09</td>\n",
       "      <td>6425.00</td>\n",
       "      <td>9.002127e+26</td>\n",
       "      <td>3.748276</td>\n",
       "      <td>0.051663</td>\n",
       "      <td>8.735927e+07</td>\n",
       "      <td>7.529003</td>\n",
       "    </tr>\n",
       "    <tr>\n",
       "      <th>91389</th>\n",
       "      <td>[7.849864241904315e-05, 6.98626522894555e-05, ...</td>\n",
       "      <td>[0.0019979147708332813, 0.0023144420595474294,...</td>\n",
       "      <td>[0.47747066508210395, 0.4471629537709605, 0.41...</td>\n",
       "      <td>[7.27555920454383, 6.8137391093542625, 6.38123...</td>\n",
       "      <td>9997</td>\n",
       "      <td>9997</td>\n",
       "      <td>12.4814</td>\n",
       "      <td>7.112258e+29</td>\n",
       "      <td>2.000117e+08</td>\n",
       "      <td>3194.00</td>\n",
       "      <td>4.499754e+24</td>\n",
       "      <td>2.029088</td>\n",
       "      <td>0.022266</td>\n",
       "      <td>5.795140e+06</td>\n",
       "      <td>8.552071</td>\n",
       "    </tr>\n",
       "    <tr>\n",
       "      <th>91390</th>\n",
       "      <td>[0.00017568627328162062, 0.0001389306424785053...</td>\n",
       "      <td>[0.014127388701323053, 0.01399455259963533, 0....</td>\n",
       "      <td>[0.47747066508210395, 0.4471629537709605, 0.41...</td>\n",
       "      <td>[7.27555920454383, 6.8137391093542625, 6.38123...</td>\n",
       "      <td>9998</td>\n",
       "      <td>9998</td>\n",
       "      <td>737.5750</td>\n",
       "      <td>2.625198e+30</td>\n",
       "      <td>1.078335e+09</td>\n",
       "      <td>6454.00</td>\n",
       "      <td>4.756472e+27</td>\n",
       "      <td>4.087295</td>\n",
       "      <td>0.054884</td>\n",
       "      <td>1.223928e+08</td>\n",
       "      <td>20.266724</td>\n",
       "    </tr>\n",
       "    <tr>\n",
       "      <th>91391</th>\n",
       "      <td>[6.709301375530038e-05, 5.285273274809838e-05,...</td>\n",
       "      <td>[0.000928594783142543, 0.00094293259884462, 0....</td>\n",
       "      <td>[0.47747066508210395, 0.4471629537709605, 0.41...</td>\n",
       "      <td>[7.27555920454383, 6.8137391093542625, 6.38123...</td>\n",
       "      <td>9999</td>\n",
       "      <td>9999</td>\n",
       "      <td>626.6910</td>\n",
       "      <td>1.869105e+30</td>\n",
       "      <td>7.443990e+08</td>\n",
       "      <td>5735.81</td>\n",
       "      <td>5.637060e+25</td>\n",
       "      <td>14.386800</td>\n",
       "      <td>0.113412</td>\n",
       "      <td>1.894588e+07</td>\n",
       "      <td>10.023824</td>\n",
       "    </tr>\n",
       "  </tbody>\n",
       "</table>\n",
       "<p>91392 rows × 15 columns</p>\n",
       "</div>"
      ],
      "text/plain": [
       "                                        instrument_noise  \\\n",
       "0      [5.1474898629468244e-05, 4.348895393300745e-05...   \n",
       "1      [1.980730259429552e-05, 1.7630510963496627e-05...   \n",
       "2      [0.00020644293130675406, 0.0001720596748356475...   \n",
       "3      [7.430443049419776e-05, 6.156785326218716e-05,...   \n",
       "4      [6.095420382752906e-05, 5.027194878129773e-05,...   \n",
       "...                                                  ...   \n",
       "91387  [2.907662943842389e-05, 2.5077925960638454e-05...   \n",
       "91388  [0.0002556130131651011, 0.0002014120412465704,...   \n",
       "91389  [7.849864241904315e-05, 6.98626522894555e-05, ...   \n",
       "91390  [0.00017568627328162062, 0.0001389306424785053...   \n",
       "91391  [6.709301375530038e-05, 5.285273274809838e-05,...   \n",
       "\n",
       "                                     instrument_spectrum  \\\n",
       "0      [0.0016705271416423556, 0.0014561189878814244,...   \n",
       "1      [0.0007610982890165945, 0.0007374933547361189,...   \n",
       "2      [0.011337965222089139, 0.01098047426505663, 0....   \n",
       "3      [0.014974527037819672, 0.014987538532715677, 0...   \n",
       "4      [0.0014593765703038754, 0.001392635745726865, ...   \n",
       "...                                                  ...   \n",
       "91387  [0.0010308710312077213, 0.0008304446625675506,...   \n",
       "91388  [0.005365120630626467, 0.005344351359531711, 0...   \n",
       "91389  [0.0019979147708332813, 0.0023144420595474294,...   \n",
       "91390  [0.014127388701323053, 0.01399455259963533, 0....   \n",
       "91391  [0.000928594783142543, 0.00094293259884462, 0....   \n",
       "\n",
       "                                        instrument_width  \\\n",
       "0      [0.47747066508210395, 0.4471629537709605, 0.41...   \n",
       "1      [0.47747066508210395, 0.4471629537709605, 0.41...   \n",
       "2      [0.47747066508210395, 0.4471629537709605, 0.41...   \n",
       "3      [0.47747066508210395, 0.4471629537709605, 0.41...   \n",
       "4      [0.47747066508210395, 0.4471629537709605, 0.41...   \n",
       "...                                                  ...   \n",
       "91387  [0.47747066508210395, 0.4471629537709605, 0.41...   \n",
       "91388  [0.47747066508210395, 0.4471629537709605, 0.41...   \n",
       "91389  [0.47747066508210395, 0.4471629537709605, 0.41...   \n",
       "91390  [0.47747066508210395, 0.4471629537709605, 0.41...   \n",
       "91391  [0.47747066508210395, 0.4471629537709605, 0.41...   \n",
       "\n",
       "                                       instrument_wlgrid  Planet_ID  \\\n",
       "0      [7.27555920454383, 6.8137391093542625, 6.38123...          0   \n",
       "1      [7.27555920454383, 6.8137391093542625, 6.38123...          1   \n",
       "2      [7.27555920454383, 6.8137391093542625, 6.38123...         10   \n",
       "3      [7.27555920454383, 6.8137391093542625, 6.38123...        100   \n",
       "4      [7.27555920454383, 6.8137391093542625, 6.38123...       1000   \n",
       "...                                                  ...        ...   \n",
       "91387  [7.27555920454383, 6.8137391093542625, 6.38123...       9995   \n",
       "91388  [7.27555920454383, 6.8137391093542625, 6.38123...       9996   \n",
       "91389  [7.27555920454383, 6.8137391093542625, 6.38123...       9997   \n",
       "91390  [7.27555920454383, 6.8137391093542625, 6.38123...       9998   \n",
       "91391  [7.27555920454383, 6.8137391093542625, 6.38123...       9999   \n",
       "\n",
       "       planet_ID  star_distance  star_mass_kg  star_radius_m  \\\n",
       "0              0       100.0510  1.531871e+30   6.122160e+08   \n",
       "1              1        28.2938  1.536643e+30   5.426460e+08   \n",
       "2             10       152.8920  1.789529e+30   7.235280e+08   \n",
       "3            100       260.6410  2.041500e+30   1.106163e+09   \n",
       "4           1000       249.8260  2.481784e+30   9.600660e+08   \n",
       "...          ...            ...           ...            ...   \n",
       "91387       9995       732.4320  6.150788e+30   4.202028e+09   \n",
       "91388       9996      1148.8000  2.603574e+30   1.405314e+09   \n",
       "91389       9997        12.4814  7.112258e+29   2.000117e+08   \n",
       "91390       9998       737.5750  2.625198e+30   1.078335e+09   \n",
       "91391       9999       626.6910  1.869105e+30   7.443990e+08   \n",
       "\n",
       "       star_temperature  planet_mass_kg  planet_orbital_period  \\\n",
       "0               5053.00    4.994682e+25               3.646200   \n",
       "1               5071.00    3.040857e+25              16.201656   \n",
       "2               5623.00    5.143284e+26              10.180207   \n",
       "3               5906.80    5.707595e+27               8.769050   \n",
       "4               6317.00    1.008137e+26               3.626540   \n",
       "...                 ...             ...                    ...   \n",
       "91387          10037.00    5.474512e+26               2.555550   \n",
       "91388           6425.00    9.002127e+26               3.748276   \n",
       "91389           3194.00    4.499754e+24               2.029088   \n",
       "91390           6454.00    4.756472e+27               4.087295   \n",
       "91391           5735.81    5.637060e+25              14.386800   \n",
       "\n",
       "       planet_distance  planet_radius_m  planet_surface_gravity  \n",
       "0             0.042501     1.751739e+07               10.389141  \n",
       "1             0.114991     1.309706e+07               11.315104  \n",
       "2             0.088753     6.960987e+07                6.774999  \n",
       "3             0.083956     1.310336e+08               21.217691  \n",
       "4             0.049737     2.637044e+07                9.253265  \n",
       "...                ...              ...                     ...  \n",
       "91387         0.053301     7.228806e+07                6.686866  \n",
       "91388         0.051663     8.735927e+07                7.529003  \n",
       "91389         0.022266     5.795140e+06                8.552071  \n",
       "91390         0.054884     1.223928e+08               20.266724  \n",
       "91391         0.113412     1.894588e+07               10.023824  \n",
       "\n",
       "[91392 rows x 15 columns]"
      ]
     },
     "execution_count": 61,
     "metadata": {},
     "output_type": "execute_result"
    }
   ],
   "source": [
    "df_all"
   ]
  },
  {
   "cell_type": "code",
   "execution_count": null,
   "metadata": {
    "collapsed": false,
    "pycharm": {
     "name": "#%%\n"
    }
   },
   "outputs": [],
   "source": []
  }
 ],
 "metadata": {
  "kernelspec": {
   "display_name": "Python 3.9.12 ('base')",
   "language": "python",
   "name": "python3"
  },
  "language_info": {
   "codemirror_mode": {
    "name": "ipython",
    "version": 3
   },
   "file_extension": ".py",
   "mimetype": "text/x-python",
   "name": "python",
   "nbconvert_exporter": "python",
   "pygments_lexer": "ipython3",
   "version": "3.9.12"
  },
  "vscode": {
   "interpreter": {
    "hash": "2d704a9c14a63e47be2984c875a301cfdf06b9deef3d7b2ea4277add99dfd70d"
   }
  }
 },
 "nbformat": 4,
 "nbformat_minor": 0
}
